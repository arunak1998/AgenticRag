{
 "cells": [
  {
   "cell_type": "markdown",
   "id": "2efa8ba8",
   "metadata": {},
   "source": [
    "Creating Multimodel RAG (Retrieval-Augmented-Generation)\n",
    "What is RAG?\n",
    "It is the process of optimizing the output of a large language model. RAG process references a knowledge base outside of its training data sources before generating a response.\n",
    "\n",
    "Three main components of RAG\n",
    "\n",
    "Ingestion\n",
    "Retrieval\n",
    "Generation\n",
    "What is MultiModel RAG?\n",
    "Multimodel RAG is AI system that can understand different modalities like images, audio, video and text. It enables AI systems to process and integrate data from numerous modalities, such as text, audio, video, tables etc.\n",
    "\n",
    "There are three main ways to approach the multimodel RAG:\n",
    "\n",
    "Option 1\n",
    "\n",
    "Use multimodel embeddings to embed images.\n",
    "Retrieve all using similarity search.\n",
    "Pass raw images and text chunks to a multimodel LLM for an answer generation.\n",
    "Option 2\n",
    "\n",
    "Use a multimodel LLM to produce text summaries from images.\n",
    "Embed all (summaries of images, tables and text) and retrieve text.\n",
    "Pass text chunk to an LLM for answer generation.\n",
    "Option 3\n",
    "\n",
    "Use a multimodel LLM to produce text summaries from images.\n",
    "Embed and retrieve image summaries with a reference to the raw image.\n",
    "Pass the raw image and text chunk to a multimodal LLM for answer generation.\n"
   ]
  },
  {
   "cell_type": "code",
   "execution_count": 30,
   "id": "ae750b4b",
   "metadata": {},
   "outputs": [
    {
     "data": {
      "text/plain": [
       "True"
      ]
     },
     "execution_count": 30,
     "metadata": {},
     "output_type": "execute_result"
    }
   ],
   "source": [
    "from dotenv import load_dotenv\n",
    "\n",
    "load_dotenv()"
   ]
  },
  {
   "cell_type": "markdown",
   "id": "ce47de42",
   "metadata": {},
   "source": [
    "Extract the elements of the PDF that we will be able to use in the retrieval process. These elements can be: Text, Images,Tables etc.\n",
    "\n",
    "Partition PDF Tables, Text and Images\n",
    "If you didn't have poppler and tesseract installed and add it to Path"
   ]
  },
  {
   "cell_type": "code",
   "execution_count": null,
   "id": "b07ef01d",
   "metadata": {},
   "outputs": [
    {
     "name": "stderr",
     "output_type": "stream",
     "text": [
      "/mnt/c/workspaces/langchain_pydantic/lang/lib/python3.12/site-packages/tqdm/auto.py:21: TqdmWarning: IProgress not found. Please update jupyter and ipywidgets. See https://ipywidgets.readthedocs.io/en/stable/user_install.html\n",
      "  from .autonotebook import tqdm as notebook_tqdm\n"
     ]
    }
   ],
   "source": [
    "from unstructured.partition.pdf import partition_pdf\n",
    "\n",
    "output_path = './content/'\n",
    "file_path = output_path + 'DietaryGuideliness.pdf'\n",
    "\n",
    "def partition_and_chunk_pdf(file_path):\n",
    "    \"\"\"Partitions and chunks a PDF file into manageable pieces.\n",
    "    \"\"\"\n",
    "    chunks= partition_pdf(\n",
    "        filename=file_path,\n",
    "        infer_tables_structure=True,          # Extract tables with structure\n",
    "        strategy='hi_res',                     # Mandatory to infer tables\n",
    "\n",
    "        extract_image_block_types=[\"Image\"],   # Add 'Table' to list to extract tables as images\n",
    "        # image_output_dir_path=output_path,    # Directory to save images\n",
    "\n",
    "        extract_image_block_to_payload=True,   # Extract metadata element containing base64 object of the image\n",
    "                                                # Must when sending the image to LLMs\n",
    "\n",
    "        chunking_strategy=\"by_title\",          # Chunking strategy to use, can be 'by_title', 'basic'\n",
    "        max_characters=2000,                   # Maximum number of characters per chunk\n",
    "        combine_text_under_n_chars=500,        # Combine text blocks under this number of characters with previous text block\n",
    "        new_after_n_chars=6000,                # New chunk after this number of characters. Hard limit.\n",
    "    )\n",
    "    return chunks"
   ]
  },
  {
   "cell_type": "code",
   "execution_count": 6,
   "id": "1339a406",
   "metadata": {},
   "outputs": [],
   "source": [
    "file_path='/mnt/c/workspaces/langchain_pydantic/content/DietaryGuideliness.pdf'\n",
    "chunks=partition_and_chunk_pdf(file_path)"
   ]
  },
  {
   "cell_type": "markdown",
   "id": "9dc1eaca",
   "metadata": {},
   "source": [
    "Check all the Types in chunks we extracted from the PDF"
   ]
  },
  {
   "cell_type": "code",
   "execution_count": 7,
   "id": "4ab2ce8c",
   "metadata": {},
   "outputs": [
    {
     "name": "stdout",
     "output_type": "stream",
     "text": [
      "{'Header', 'Footer', 'FigureCaption', 'Table', 'NarrativeText', 'Image', 'ListItem', 'Title', 'UncategorizedText'}\n"
     ]
    }
   ],
   "source": [
    "a = set()\n",
    "for chunk in chunks:\n",
    "    for el in chunk.metadata.orig_elements:\n",
    "        a.add(el.category)\n",
    "print(a)"
   ]
  },
  {
   "cell_type": "code",
   "execution_count": 8,
   "id": "652e6ca9",
   "metadata": {},
   "outputs": [
    {
     "name": "stdout",
     "output_type": "stream",
     "text": [
      "{'type': 'Table', 'element_id': 'ba3d9432-57f4-444f-9c78-197b232960a4', 'text': 'First Published —_...... Reprinted — ..., Second Edition _—e_...', 'metadata': {'detection_class_prob': 0.3188486695289612, 'coordinates': {'points': ((201.88238525390625, 218.69456481933594), (201.88238525390625, 316.837646484375), (593.6365966796875, 316.837646484375), (593.6365966796875, 218.69456481933594)), 'system': 'PixelSpace', 'layout_width': 1500, 'layout_height': 2000}, 'last_modified': '2025-06-09T10:03:30', 'filetype': 'PPM', 'languages': ['eng'], 'page_number': 3}}\n",
      "{'type': 'Table', 'element_id': '4b1218de-ef88-453b-8ba0-6592e1ed9b94', 'text': 'CSIR Emeritus-Scientist Chancellor Bangalore Avinashalingam deemed University Coimbatore Dr. Bamji. Mahtab S. Dr. Ramachandran A. Former Director-Grade Scientist, NIN Diabetes research Centre ICMR Emeritus scientist Chennai Hyderabad Dr. Bhan MK. Dr. Rao MV Additional Professor Former Vice-Chancellor All India Institute of Medical Sciences A.P.Agricultural University New Delhi Hyderabad Dr. Leela Raman Dr. Srinath Reddy K. Former Deputy Director (Sr.Grade), NIN Prof. Cardiology Hyderabad All India Institute of Medical Sciences New Delhi Dr. Mary Mammen Dr. Subhadra Seshadri Chief Dietitian Head, Dept. of Food & Nutrition Christian Medical College & Hospital M.S. University Vellore Baroda Dr. Narasinga Rao BS. Dr. Sushma Sharma Former Director, NIN Reader in Nutrition Hyderabad Lady Irwin College New Delhi Dr. Pralhad Rao N. Dr. Vinodini Reddy Former Deputy Director (Sr.Grade), NIN Former Director, NIN Hyderabad Hyderabad', 'metadata': {'detection_class_prob': 0.4667114317417145, 'coordinates': {'points': ((177.7676239013672, 332.46258544921875), (177.7676239013672, 1530.1348876953125), (1257.48876953125, 1530.1348876953125), (1257.48876953125, 332.46258544921875)), 'system': 'PixelSpace', 'layout_width': 1500, 'layout_height': 2000}, 'last_modified': '2025-06-09T10:03:30', 'filetype': 'PPM', 'languages': ['eng'], 'page_number': 5}}\n",
      "{'type': 'Table', 'element_id': '83c85330-8f16-4635-ba4c-61089751476d', 'text': 'Current Diet and Nutrition Scenario Dietary Guidelines Guideline 1 Guideline 2 Guideline 3 Guideline 4 Guideline 5 Guideline 6 Guideline 7 Guideline 8 Guideline 9 Guideline 10 Guideline 11 Guideline 12 Guideline 13 Guideline 14 Guideline 15 1. Approximate Calorific Value of Nuts, Salads and Fruits 2. Balanced Diet for Adults - Sedentary/Moderate/Heavy Activity 2a. Sample Meal Plan for Adult Man (sedentary) 2b. Sample Meal Plan for Adult Woman (sedentary) 3. Recommended Dietary Allowances i ii 1 3 9 10 11 21 25 29 34 40 45 52 56 60 63 67 70 75 79 85 86 87 88', 'metadata': {'detection_class_prob': 0.8890516757965088, 'coordinates': {'points': ((200.9813690185547, 344.51776123046875), (200.9813690185547, 1636.5697021484375), (1302.5087890625, 1636.5697021484375), (1302.5087890625, 344.51776123046875)), 'system': 'PixelSpace', 'layout_width': 1500, 'layout_height': 2000}, 'last_modified': '2025-06-09T10:03:30', 'filetype': 'PPM', 'languages': ['eng'], 'page_number': 8}}\n",
      "{'type': 'Table', 'element_id': 'a9e87bb8-d0d0-47a8-a442-6a1c23c29775', 'text': '5. Anthropometric Standards 6. Low Calorie Vegetables and Fruits (< 100 Kcal) 7. Vegetable and Fruits with High Calorie Value (> 100 Kcal) 8. Approximate Calorific Value of Some Cooked Preparations 9. ALA Content of Foods (g/100g) 10.Glycemic Index of Common Foods 11.Exercise and Physical Activity 12.Removal of the Pesticide Residues from the Food Products 13.Drinking Water Standards 14.Portion Sizes and Menu Plan 15.Some Nutrient-rich Foods BOOKS FOR FURTHER READING GLOSSARY 123 92 104 105 106 110 111 112 114 116 117 118 121', 'metadata': {'detection_class_prob': 0.9137315154075623, 'coordinates': {'points': ((190.6126708984375, 228.14317321777344), (190.6126708984375, 836.0957641601562), (1284.185302734375, 836.0957641601562), (1284.185302734375, 228.14317321777344)), 'system': 'PixelSpace', 'layout_width': 1500, 'layout_height': 2000}, 'last_modified': '2025-06-09T10:03:30', 'filetype': 'PPM', 'languages': ['eng'], 'page_number': 9}}\n",
      "{'type': 'Table', 'element_id': 'ea0968b4-2871-4d74-a540-d73ba9faf8f5', 'text': 'Particulars Infants and Preschool children (%) Low birth weight # Kwashiorkor/Marasmus # Bitot’s spots Iron deficiency anaemia (6 -59 months) # Underweight (weight for age)* (<5 years) # Stunting (height for age)* (<5 years) # Wasting (weight for height)* Childhood Overweight/ Obesity Adults (%) Chronic Energy Deficiency (BMI <18.5) among # Rural Adults Men Women Tribal Adults Men Women Anaemia (%) # Women (NPNL) # Pregnant women Iodine deficiency disorders (IDD) Goitre (millions) Cretinism (millions) Still births due to IDD (includes neo natal deaths) Prevalence of chronic diseases Over weight/obesity4 (BMI>25) (%) # Rural Adults Men Women Tribal Adults Men Women Urban Adults Men Women Hypertension Urban # Rural Men Women Tribal Men Women Diabetes Mellitus (%) (year 2006) Urban # Rural Coronary Heart Disease9 (%) Urban # Rural Cancer incidence Rate10 (Per 100,000) Prevalence 22 <1 0.8-1.0 70.0 42.6 48.0 20.0 6-30 33.2 36.0 40.0 49.0 75.2 74.6 54 2.2 90,000 7.8 10.9 2.4 3.2 36.0 40.0 35.0 25.0 25.0 24.0 24.0 25.0 23.0 16.0 5.0 7-9 3-5', 'metadata': {'detection_class_prob': 0.888401448726654, 'coordinates': {'points': ((264.61895751953125, 245.5008544921875), (264.61895751953125, 1631.0545654296875), (1244.85205078125, 1631.0545654296875), (1244.85205078125, 245.5008544921875)), 'system': 'PixelSpace', 'layout_width': 1500, 'layout_height': 2000}, 'last_modified': '2025-06-09T10:03:30', 'filetype': 'PPM', 'languages': ['eng'], 'page_number': 15}}\n",
      "{'type': 'Table', 'element_id': 'a5d16f05-a0eb-4295-b443-2de9f0634cd7', 'text': 'Year RDA Food Group 1990 2000 2001 2002 2003 2004 2006/07 Per CU Per caput* Cereals 431.5 422.7 386.2 458.7 408.5 426.9 412.1 460 400 Pulses 41.1 31.8 30.0 35.4 29.1 35.8 32.5 40.0 35 Milk 176 220 225 230 231 232 245 150 131 Vegetables - - - - - - 210 60 52 Oils 17.8 26.0 27.9 23.6 NA NA NA 20 17 Meat 12.6 13.7 14.0 14.2 NA NA NA - - Eggs no.s / head / annum 25 36 38 39 40 41 - - -', 'metadata': {'detection_class_prob': 0.9284181594848633, 'coordinates': {'points': ((198.58401489257812, 271.3470458984375), (198.58401489257812, 660.2005615234375), (1300.7427978515625, 660.2005615234375), (1300.7427978515625, 271.3470458984375)), 'system': 'PixelSpace', 'layout_width': 1500, 'layout_height': 2000}, 'last_modified': '2025-06-09T10:03:30', 'filetype': 'PPM', 'languages': ['eng'], 'page_number': 17}}\n",
      "{'type': 'Table', 'element_id': '09e837c9-24f9-4ff8-a6d4-60af0c8779be', 'text': 'CU Intake * Per Caput R #DA Cereals/millets 396 345 400 Pulses 28 24 80 Milk 82 71 300 Vegetables 49 43 300 Oils 14 12 30', 'metadata': {'detection_class_prob': 0.9291121363639832, 'coordinates': {'points': ((238.10206604003906, 1103.2681884765625), (238.10206604003906, 1425.6336669921875), (1255.4786376953125, 1425.6336669921875), (1255.4786376953125, 1103.2681884765625)), 'system': 'PixelSpace', 'layout_width': 1500, 'layout_height': 2000}, 'last_modified': '2025-06-09T10:03:30', 'filetype': 'PPM', 'languages': ['eng'], 'page_number': 17}}\n",
      "{'type': 'Table', 'element_id': '9bf3fbc7-e265-4517-9155-bf6cc31a950c', 'text': 'ENERGY Carbohydrates & fats RICHFOODS Whole grain cereals, millets Protein, fibre, minerals, calcium, iron & B-complex vitamins Vegetable oils, ghee, butter Fat soluble vitamins, essential fatty acids Nuts and oilseeds Proteins, vitamins, minerals Sugars Nil BODY Proteins BUILDING FOODS Pulses, nuts and oilseeds B-complex vitamins, invisible fat, fibre Milk and Milk products Calcium, vitamin A, riboflavin, vitamin B12 Meat, fish, poultry B-complex vitamins, iron, iodine, fat PROTECTIVE Vitamins and Minerals FOODS Green leafy vegetables Antioxidants, fibre and other carotenoids Other vegetables and fruits Fibre, sugar and antioxidants Eggs, milk and milk products Protein and fat and flesh foods', 'metadata': {'detection_class_prob': 0.909639298915863, 'coordinates': {'points': ((197.76129150390625, 877.8150024414062), (197.76129150390625, 1714.3525390625), (1309.6912841796875, 1714.3525390625), (1309.6912841796875, 877.8150024414062)), 'system': 'PixelSpace', 'layout_width': 1500, 'layout_height': 2000}, 'last_modified': '2025-06-09T10:03:30', 'filetype': 'PPM', 'languages': ['eng'], 'page_number': 27}}\n",
      "{'type': 'Table', 'element_id': 'a413642f-f99d-4434-99a2-11351b4a008c', 'text': 'Rice Green gram dhal Leafy vegetables Fat ... ... ... ... 10 g', 'metadata': {'detection_class_prob': 0.6809948682785034, 'coordinates': {'points': ((335.0386657714844, 336.8526611328125), (335.0386657714844, 517.554931640625), (929.9188232421875, 517.554931640625), (929.9188232421875, 336.8526611328125)), 'system': 'PixelSpace', 'layout_width': 1500, 'layout_height': 2000}, 'last_modified': '2025-06-09T10:03:30', 'filetype': 'PPM', 'languages': ['eng'], 'page_number': 44}}\n",
      "{'type': 'Table', 'element_id': 'f5340450-decd-42c2-84d4-bba3296c0d25', 'text': 'Malted Ragi Roasted Groundnut Jaggery ... 30 g ... 15 g ... 20 g', 'metadata': {'detection_class_prob': 0.5205457806587219, 'coordinates': {'points': ((240.60081481933594, 731.9786987304688), (240.60081481933594, 921.8096923828125), (943.4129638671875, 921.8096923828125), (943.4129638671875, 731.9786987304688)), 'system': 'PixelSpace', 'layout_width': 1500, 'layout_height': 2000}, 'last_modified': '2025-06-09T10:03:30', 'filetype': 'PPM', 'languages': ['eng'], 'page_number': 44}}\n",
      "{'type': 'Table', 'element_id': '993ca2f5-9870-4ea9-8806-22e39e70ede7', 'text': 'Wheat Roasted Bengal gram flour Roasted & crushed Groundnut Sugar ... 15 g ... 5 g', 'metadata': {'detection_class_prob': 0.6368011832237244, 'coordinates': {'points': ((306.2370910644531, 995.5322875976562), (306.2370910644531, 1151.2049560546875), (912.0443725585938, 1151.2049560546875), (912.0443725585938, 995.5322875976562)), 'system': 'PixelSpace', 'layout_width': 1500, 'layout_height': 2000}, 'last_modified': '2025-06-09T10:03:30', 'filetype': 'PPM', 'languages': ['eng'], 'page_number': 44}}\n",
      "{'type': 'Table', 'element_id': 'a35cd7ad-a3d2-4c0e-b628-e2c9c4e0f20b', 'text': 'Vermicelli/Rice Milk Water ... 30 g ... 100 ml. ... As required', 'metadata': {'detection_class_prob': 0.580513596534729, 'coordinates': {'points': ((331.13916015625, 1279.872802734375), (331.13916015625, 1432.357666015625), (1020.3960571289062, 1432.357666015625), (1020.3960571289062, 1279.872802734375)), 'system': 'PixelSpace', 'layout_width': 1500, 'layout_height': 2000}, 'last_modified': '2025-06-09T10:03:30', 'filetype': 'PPM', 'languages': ['eng'], 'page_number': 44}}\n",
      "{'type': 'Table', 'element_id': '591c388f-b6e4-4f81-872b-6b8423180132', 'text': '<-3SD 2.1 2.9 3.8 4.4 4.9 5.3 5.7 5.9 6.2 6.4 6.6 6.8 6.9 7.1 7.2 7.4 7.5 7.7 7.8 8.0 8.1 8.2 8.4 8.5 8.6 8.8 8.9 9.0 9.1 9.2 9.4 9.5 9.6 9.7 9.8 9.9 Boys - 3SD to - 2SD to - 2SD - 1SD - MEDIAN AGE Months <-3SD Girls - 3SD to - 2SD to - 2SD - 1SD 2.5 2.9 3.3 0 2.0 2.4 2.8 3.4 3.9 4.5 1 2.7 3.2 3.6 4.3 4.9 5.6 2 3.4 3.9 4.5 5.0 5.7 6.4 3 4.0 4.5 5.2 5.6 6.2 7.0 4 4.4 5.0 5.7 6.0 6.7 7.5 5 4.8 5.4 6.1 6.4 7.1 7.9 6 5.1 5.7 6.5 6.7 7.4 8.3 7 5.3 6.0 6.8 6.9 7.7 8.6 8 5.6 6.3 7.0 7.1 8.0 8.9 9 5.8 6.5 7.3 7.4 8.2 9.2 10 5.9 6.7 7.5 7.6 8.4 9.4 11 6.1 6.9 7.7 7.7 8.6 9.6 12 6.3 7.0 7.9 7.9 8.8 9.9 13 6.4 7.2 8.1 8.1 9.0 10.1 14 6.6 7.4 8.3 8.3 9.2 10.3 15 6.7 7.6 8.5 8.4 9.4 10.5 16 6.9 7.7 8.7 8.6 9.6 10.7 17 7.0 7.9 8.9 8.8 9.8 10.9 18 7.2 8.1 9.1 8.9 10.0 11.1 19 7.3 8.2 9.2 9.1 10.1 11.3 20 7.5 8.4 9.4 9.2 10.3 11.5 21 7.6 8.6 9.6 9.4 10.5 11.8 22 7.8 8.7 9.8 9.5 10.7 12.0 23 7.9 8.9 10.0 9.7 10.8 12.2 24 8.1 9.0 10.2 9.8 11.0 12.4 25 8.2 9.2 10.3 10.0 11.2 12.5 26 8.4 9.4 10.5 10.1 11.3 12.7 27 8.5 9.5 10.7 10.2 11.5 12.9 28 8.6 9.7 10.9 10.4 11.7 13.1 29 8.8 9.8 11.1 10.5 11.8 13.3 30 8.9 10.0 11.2 10.7 12.0 13.5 31 9.0 10.1 11.4 10.8 12.1 13.7 32 9.1 10.3 11.6 10.9 12.3 13.8 33 9.3 10.4 11.7 11.0 12.4 14.0 34 9.4 10.5 11.9 11.2 12.6 14.2 35 9.5 10.7 12.0 - MEDIAN 3.2 4.2 5.1 5.8 6.4 6.9 7.3 7.6 7.9 8.2 8.5 8.7 8.9 9.2 9.4 9.6 9.8 10.0 10.2 10.4 10.6 10.9 11.1 11.3 11.5 11.7 11.9 12.1 12.3 12.5 12.7 12.9 13.1 13.3 13.5 13.7', 'metadata': {'detection_class_prob': 0.919367253780365, 'coordinates': {'points': ((218.751953125, 340.19085693359375), (218.751953125, 1606.7921142578125), (1297.5029296875, 1606.7921142578125), (1297.5029296875, 340.19085693359375)), 'system': 'PixelSpace', 'layout_width': 1500, 'layout_height': 2000}, 'last_modified': '2025-06-09T10:03:30', 'filetype': 'PPM', 'languages': ['eng'], 'page_number': 49}}\n",
      "{'type': 'Table', 'element_id': 'e1337110-05e8-47a7-8910-807bb7596fce', 'text': '<-3SD Boys - 3SD to - 2SD to - 2SD - 1SD - MEDIAN AGE Months <-3SD Girls - 3SD to - 2SD to - 2SD - 1SD - MEDIAN 10.1 11.4 12.9 14.5 37 9.7 10.9 12.4 14.0 10.2 11.5 13.0 14.7 38 9.8 11.1 12.5 14.2 10.3 11.6 13.1 14.8 39 9.9 11.2 12.7 14.4 10.4 11.8 13.3 15.0 40 10.1 11.3 12.8 14.6 10.5 11.9 13.4 15.2 41 10.2 11.5 13.0 14.8 10.6 12.0 13.6 15.3 42 10.3 11.6 13.1 15.0 10.7 12.1 13.7 15.5 43 10.4 11.7 13.3 15.2 10.8 12.2 13.8 15.7 44 10.5 11.8 13.4 15.3 10.9 12.4 14.0 15.8 45 10.6 12.0 13.6 15.5 11.0 12.5 14.1 16.0 46 10.7 12.1 13.7 15.7 11.1 12.6 14.3 16.2 47 10.8 12.2 13.9 15.9 11.2 12.7 14.4 16.3 48 10.9 12.3 14.0 16.1 11.3 12.8 14.5 16.5 49 11.0 12.4 14.2 16.3 11.4 12.9 14.7 16.7 50 11.1 12.6 14.3 16.4 11.5 13.1 14.8 16.8 51 11.2 12.7 14.5 16.6 11.6 13.3 15.0 17.0 52 11.3 12.8 14.6 16.8 11.7 13.3 15.1 17.2 53 11.4 12.9 14.8 17.0 11.8 13.4 15.2 17.3 54 11.5 13.0 14.9 17.2 11.9 13.5 15.4 17.5 55 11.6 13.2 15.1 17.3 12.0 13.6 15.5 17.7 56 11.7 13.3 15.2 17.5 12.1 13.7 15.6 17.8 57 11.8 13.4 15.3 17.7 12.2 13.8 15.8 18.0 58 11.9 13.5 15.5 17.9 12.3 14.0 15.9 18.2 59 12.0 13.6 15.6 18.0 12.4 14.1 16.0 18.3 60 12.1 13.7 15.8 18.2', 'metadata': {'detection_class_prob': 0.9169987440109253, 'coordinates': {'points': ((213.31500244140625, 220.5127410888672), (213.31500244140625, 1080.8404541015625), (1295.3817138671875, 1080.8404541015625), (1295.3817138671875, 220.5127410888672)), 'system': 'PixelSpace', 'layout_width': 1500, 'layout_height': 2000}, 'last_modified': '2025-06-09T10:03:30', 'filetype': 'PPM', 'languages': ['eng'], 'page_number': 50}}\n",
      "{'type': 'Table', 'element_id': '9a7296c6-6c81-4f55-ad0a-cbd37f483f45', 'text': 'SATURATED MONO- UNSATURATED POLYUNSATURATED Coconut Palm kernel Red palm oil Palmolein LINOLEIC (n-6) a –LINOLENIC (n-3) Ghee/butter Vanaspati Groundnut Ricebran Low Red palm oil Palmolein Rapeseed, Mustard Soyabean Sesame Moderate Groundnut, Ricebran Sesame Safflower,Sunflower High Cottonseed, Corn, Soyabean', 'metadata': {'detection_class_prob': 0.9388881325721741, 'coordinates': {'points': ((196.48265075683594, 788.8577270507812), (196.48265075683594, 1169.0643310546875), (1307.964599609375, 1169.0643310546875), (1307.964599609375, 788.8577270507812)), 'system': 'PixelSpace', 'layout_width': 1500, 'layout_height': 2000}, 'last_modified': '2025-06-09T10:03:30', 'filetype': 'PPM', 'languages': ['eng'], 'page_number': 58}}\n",
      "{'type': 'Table', 'element_id': '0d8542c9-71eb-4282-90dd-1aceb252deb3', 'text': 'Foods Gram Cereal/Millet Wheat & Pearl millet (bajra) 70 Pulses Blackgram (kala chana), kidney beans 20 (rajmah) & cowpea (lobia) Other pulses 60 Vegetables Green leafy 60 Other Vegetables 400 Fruits 400 Spices Fenugreek seed (methi) 5 Mustard (sarson) 1 Unconventional Flaxseed (alsi) 0.5 Perilla seeds (Bhanjira) 0.3', 'metadata': {'detection_class_prob': 0.9128562211990356, 'coordinates': {'points': ((457.6789855957031, 306.4000549316406), (457.6789855957031, 931.2706909179688), (1060.6121826171875, 931.2706909179688), (1060.6121826171875, 306.4000549316406)), 'system': 'PixelSpace', 'layout_width': 1500, 'layout_height': 2000}, 'last_modified': '2025-06-09T10:03:30', 'filetype': 'PPM', 'languages': ['eng'], 'page_number': 59}}\n",
      "{'type': 'Table', 'element_id': '732c77a6-b8fe-4110-8c22-6a247c53dc79', 'text': 'Groundnut or Sesame or Rice bran + Mustard Groundnut or Sesame or Rice bran + Canola Groundnut or Sesame or Rice bran + Soyabean Palmolein + Soyabean Safflower or Sunflower + Palmolein + Mustard', 'metadata': {'detection_class_prob': 0.8176665306091309, 'coordinates': {'points': ((410.7359313964844, 1389.25244140625), (410.7359313964844, 1576.498291015625), (1083.9346923828125, 1576.498291015625), (1083.9346923828125, 1389.25244140625)), 'system': 'PixelSpace', 'layout_width': 1500, 'layout_height': 2000}, 'last_modified': '2025-06-09T10:03:30', 'filetype': 'PPM', 'languages': ['eng'], 'page_number': 60}}\n",
      "{'type': 'Table', 'element_id': 'b38d58f9-af40-4d7a-853b-7d62adef08d6', 'text': '1. Approximate Calorific Value of Nuts, Salads and Fruits 2. Balanced Diet for Adults - Sedentary/Moderate/Heavy Activity 2a. Sample Meal Plan for Adult Man (sedentary) 2b. Sample Meal Plan for Adult Woman (sedentary) 3. Recommended Dietary Allowances - Macronutrients - Micronutrients 4. Balanced Diet for Infants, Children and Adolescents 5. Anthropometric Standards 6. Low Calorie Vegetables and Fruits (< 100 Kcal) 7. Vegetable and Fruits with High Calorie Value (> 100 Kcal) 8. Approximate Calorific Value of Some Cooked Preparations 9. ALA Content of Foods (g/100g) 10. Glycemic Index of Common Foods 11. Exercise and Physical Activity 12. Removal of the Pesticide Residues from the Food Products 13. Drinking Water Standards 14. Portion Sizes and Menu Plan 15. Some Nutrient-rich Foods BOOKS FOR FURTHER READING 85 86 87 88 89 90 91 92 104 105 106 110 111 112 114 116 117 118 121', 'metadata': {'detection_class_prob': 0.8732548356056213, 'coordinates': {'points': ((222.9259490966797, 359.2967834472656), (222.9259490966797, 1688.9091796875), (1281.9862060546875, 1688.9091796875), (1281.9862060546875, 359.2967834472656)), 'system': 'PixelSpace', 'layout_width': 1500, 'layout_height': 2000}, 'last_modified': '2025-06-09T10:03:30', 'filetype': 'PPM', 'languages': ['eng'], 'page_number': 94}}\n",
      "{'type': 'Table', 'element_id': '6b4fe9af-c721-4c14-8d40-7dfe7e599dad', 'text': 'Nuts Almonds 10 Nos. Cashewnuts 10 Nos. Coconut (fresh) 100 g Coconut (dry) 100 g Peanuts 50 Nos. Fresh fruits Apple 1 medium Banana 1 medium Grapes 30 Nos. Guava 1 medium Jackfruit 4 pieces Mango 1 medium Mosambi/orange 1 medium Papaya 1 piece Pineapple 1 piece Sapota 1 medium Custard apple 1 medium Watermelon/muskmelon 1 slice Salads Beetroot 1 medium Carrot 1 medium Cucumber 1 medium Onion 1 medium Radish 1 medium Tomato 1 medium 85 95 444 662 90 65 90 70 50 90 180 40 80 50 80 130 15 30 70 12 25 10 10', 'metadata': {'detection_class_prob': 0.8551352024078369, 'coordinates': {'points': ((213.50961303710938, 406.36395263671875), (213.50961303710938, 1671.322265625), (1268.5548095703125, 1671.322265625), (1268.5548095703125, 406.36395263671875)), 'system': 'PixelSpace', 'layout_width': 1500, 'layout_height': 2000}, 'last_modified': '2025-06-09T10:03:30', 'filetype': 'PPM', 'languages': ['eng'], 'page_number': 96}}\n",
      "{'type': 'Table', 'element_id': 'c3efd350-a156-48ec-88e7-070c6013d4a7', 'text': 'Sedentary Moderate Heavy g/portion Man Woman Man Woman Man Woman No. of portions Cereals & millets 30 12.5 9 15 11 20 16 Pulses 30 2.5 2 3 2.5 4 3 Milk & milk products 100 ml 3 3 3 3 3 3 Roots & 100 2 2 2 2 2 2 tubers Green leafy 100 1 1 1 1 1 1 vegetables Other vegetables 100 2 2 2 2 2 2 Fruits 100 1 1 1 1 1 1 Sugar 5 4 4 6 6 11 9 Fat 5 5 4 6 5 8 6', 'metadata': {'detection_class_prob': 0.9192675948143005, 'coordinates': {'points': ((205.82293701171875, 412.95489501953125), (205.82293701171875, 1502.4351806640625), (1306.374267578125, 1502.4351806640625), (1306.374267578125, 412.95489501953125)), 'system': 'PixelSpace', 'layout_width': 1500, 'layout_height': 2000}, 'last_modified': '2025-06-09T10:03:30', 'filetype': 'PPM', 'languages': ['eng'], 'page_number': 97}}\n",
      "{'type': 'Table', 'element_id': 'ac7e383e-73f6-4d39-a4f5-222d84dda0c2', 'text': 'Meal Time Food Group Raw Cooked Recipe Servings Amounts Breakfast Milk 100 ml Milk 1/2 Cup Sugar 15 g Tea or 2 Cups Coffee 1 Cup Cereals 70 g Breakfast Item Pulses 20 g Lunch Cereals 120 g Rice Pulkas 2 Cups 2 Nos. Pulses 20 g Dhal 1/2 Cup Vegetables 150 g Veg. curry 3/4 Cup Vegetables 50 g Veg. salad 7-8 Slices Milk 100 ml Curd 1/2 Cup Tea Cereals 50 g Snack Milk 50 ml Tea 1 Cup Sugar 10 g Dinner Cereals 120 g Rice 2 Cups Pulkas 2 Nos. Pulses 20 g Dhal 1/2 Cup Vegetables 150 g Veg. curry 3/4 Cup Milk (Curd) 50 ml Vegetables 50 g Fruit 100 g Seasonal 1 Medium', 'metadata': {'detection_class_prob': 0.9090250730514526, 'coordinates': {'points': ((200.02835083007812, 385.7637634277344), (200.02835083007812, 1265.2786865234375), (1295.500732421875, 1265.2786865234375), (1295.500732421875, 385.7637634277344)), 'system': 'PixelSpace', 'layout_width': 1500, 'layout_height': 2000}, 'last_modified': '2025-06-09T10:03:30', 'filetype': 'PPM', 'languages': ['eng'], 'page_number': 98}}\n",
      "{'type': 'Table', 'element_id': 'e36119ba-6c1c-4098-babb-382964bcccc8', 'text': 'Meal Time Food Group Raw Cooked Recipe Breakfast Milk 100 ml Milk or Sugar 10 g Tea or Coffee Cereals 50 g Breakfast Item Pulses 20 g Lunch Cereals 100 g Rice Pulkas Pulses 20 g Dhal Vegetables 100 g Veg. curry Vegetables 50 g Veg. salad Milk 100 ml Curd Tea Cereals 50 g Snack Milk 50 ml Tea Sugar 10 g Dinner Cereals 100 g Rice Phulkas Pulses 20 g Dhal Vegetables 100 g Veg. curry Milk (Curd) 50 ml Vegetables 50 g Fruit 100 g Seasonal Servings Amounts 1/2 Cup 2 Cups 1 Cup 1 Cup 2 Nos. 1/2 Cup 1/2 Cup 7-8 Slices 1/2 Cup 1 Cup 1 Cup 2 Nos. 1/2 Cup 1/2 Cup 1Medium', 'metadata': {'detection_class_prob': 0.9120573401451111, 'coordinates': {'points': ((199.84483337402344, 378.4992980957031), (199.84483337402344, 1253.2822265625), (1300.2745361328125, 1253.2822265625), (1300.2745361328125, 378.4992980957031)), 'system': 'PixelSpace', 'layout_width': 1500, 'layout_height': 2000}, 'last_modified': '2025-06-09T10:03:30', 'filetype': 'PPM', 'languages': ['eng'], 'page_number': 99}}\n",
      "{'type': 'Table', 'element_id': '86944844-685a-436b-a438-d42a449c7908', 'text': 'Group Man Woman Infants Children Boys Girls Boys Girls Boys Girls Particulars weight kg Net Energy Kcal/d Protein g/d Fat g/day Sedentary work 2320 25 Moderate work 60 2730 60 30 Heavy work 3490 40 Sedentary work 1900 20 Moderate work 2230 55 25 Heavy work 2850 30 Pregnant woman 55 +350 +23 30 Lactation 0-6 months +600 +19 30 6-12 months +520 +13 30 0-6 months 5.4 92 Kcal/kg/d 1.16 g/kg/d – 6-12 months 8.4 80 Kcal/kg/d 1.69 g/kg/d 19 1-3 years 12.9 1060 16.7 27 4-6 years 18 1350 20.1 25 7-9 years 25.1 1690 29.5 30 10-12 years 34.3 2190 39.9 35 10-12 years 35.0 2010 40.4 35 13-15 years 47.6 2750 54.3 45 13-15 years 46.6 2330 51.9 40 16-17 years 55.4 3020 61.5 50 16-17 years 52.1 2440 55.5 35 Calcium Iron mg/d mg/d 600 17 600 21 1200 35 1200 21 46 µg/ 500 kg/day 5 09 600 13 16 800 21 800 27 800 32 800 27 800 28 800 26', 'metadata': {'detection_class_prob': 0.9188035726547241, 'coordinates': {'points': ((211.86297607421875, 408.53326416015625), (211.86297607421875, 1574.532958984375), (1300.024169921875, 1574.532958984375), (1300.024169921875, 408.53326416015625)), 'system': 'PixelSpace', 'layout_width': 1500, 'layout_height': 2000}, 'last_modified': '2025-06-09T10:03:30', 'filetype': 'PPM', 'languages': ['eng'], 'page_number': 100}}\n",
      "{'type': 'Table', 'element_id': 'a6beb453-42e6-488b-9216-951d1aac8925', 'text': 'c n i Z d / g m m u i s d e n g / g m a M 2 B1 d / . t i V g m y r a t e i D e t a l o f d / g m c i b r o c s d i c a d / g m A n i x o id r y d / g m P t n i c a i N n e l a v i u q d / g m e n i v a l f o b d / g m i R n i m a d / g i h m T e n e t o d / g m A r a c - b . t i V l o n i t e R s r a l u c i t 6 1 4 . 1 2 . 1 k r o w y r a 2 1 0 4 3 1 0 0 2 0 4 0 . 2 8 1 6 . 1 4 . 1 0 0 8 4 0 0 6 k r o w e t 1 2 1 . 2 7 . 1 k r o w 2 1 1 . 1 1 k r o w y r a 0 1 1 0 0 2 0 4 0 . 2 4 1 3 . 1 1 . 1 0 0 8 4 0 0 6 k r o w e t 6 1 7 . 1 4 . 1 k r o w 0 1 3 2 . 1 0 0 5 0 6 5 . 2 2 + 3 . 0 + 2 . 0 + 0 0 4 6 0 0 8 n a m o w t n 2 1 5 . 1 0 0 3 0 8 5 . 2 4 + 4 . 0 + 3 . 0 + 0 0 6 7 0 5 9 s n h t n 5 . 2 3 + 3 . 0 + 2 . 0 + s h t n o – 0 3 1 . 0 g k / g m 0 1 7 3 . 0 2 . 0 - - - - s h t n 2 . 0 5 2 5 2 – 5 4 4 . 0 g k / g m 0 5 6 4 . 0 3 . 0 0 0 8 2 0 5 3 s h t n o 5 0 5 0 8 9 . 0 8 6 . 0 5 . 0 s r 0 0 2 3 0 0 4 7 0 7 0 0 1 0 4 9 . 0 1 1 8 . 0 7 . 0 s r 8 0 0 1 0 2 1 6 . 1 3 1 0 . 1 8 . 0 0 0 8 4 0 0 6 s r 9 0 2 1 6 . 1 5 1 3 . 1 1 . 1 s r a e - 2 . 0 0 4 1 0 4 9 0 6 1 0 . 1 6 . 1 3 1 2 . 1 0 . 1 s r a e 1 1 5 6 1 0 . 2 6 1 6 . 1 4 . 1 s r a e 0 5 1 0 4 0 0 8 4 0 0 6 1 1 0 1 2 0 . 2 4 1 4 . 1 2 . 1 s r a e 2 1 5 9 1 0 . 2 7 1 8 . 1 5 . 1 s r a e 0 0 2 0 4 2 1 5 3 2 0 . 2 4 1 2 . 1 0 . 1 s r a e', 'metadata': {'detection_class_prob': 0.8081154227256775, 'coordinates': {'points': ((269.2001953125, 226.61386108398438), (269.2001953125, 1569.8798828125), (1289.0888671875, 1569.8798828125), (1289.0888671875, 226.61386108398438)), 'system': 'PixelSpace', 'layout_width': 1500, 'layout_height': 2000}, 'last_modified': '2025-06-09T10:03:30', 'filetype': 'PPM', 'languages': ['eng'], 'page_number': 101}}\n",
      "{'type': 'Table', 'element_id': '63f81b1f-3903-4da3-b06d-3ead362075ba', 'text': 'Food groups g/ portion 6-12 months 1 -3 4 -6 7 -9 10 –12 13 – 15 16 - 18 Girls Boys Girls Boys Girls Boys millets 30 0.5 2 4 6 8 10 11 14 11 15 Pulses 30 0.25 1 1.0 2 2 2 2 2.5 2.5 3 milk 100 a4 5 5 5 5 5 5 5 5 5 products Roots & tubers 100 0.5 0.5 1 1 1 1 1 1.5 2 2 Green leafy 100 0.25 0.5 0.5 1 1 1 1 1 1 1 Other 100 0.25 0.5 1 1 2 2 2 2 2 2 Fruits 100 1 1 1 1 1 1 1 1 1 1 Sugar 5 2 3 4 4 6 6 5 4 5 6 Fat/ oil (visible) 5 4 5 5 6 7 7 8 9 7 10', 'metadata': {'detection_class_prob': 0.9172821044921875, 'coordinates': {'points': ((209.3457489013672, 430.2049255371094), (209.3457489013672, 1405.3572998046875), (1298.936279296875, 1405.3572998046875), (1298.936279296875, 430.2049255371094)), 'system': 'PixelSpace', 'layout_width': 1500, 'layout_height': 2000}, 'last_modified': '2025-06-09T10:03:30', 'filetype': 'PPM', 'languages': ['eng'], 'page_number': 102}}\n",
      "{'type': 'Table', 'element_id': '1c2140c5-3b67-430c-907a-cf4a729da1ce', 'text': 'Year: Month Months -3 SD 5: 1 61 12.1 5: 2 62 12.1 5: 3 63 12.1 5: 4 64 12.1 5: 5 65 12.1 5: 6 66 12.1 5: 7 67 12.1 5: 8 68 12.1 5: 9 69 12.1 5: 10 70 12.1 5: 11 71 12.1 6: 0 72 12.1 6: 1 73 12.1 6: 2 74 12.2 6: 3 75 12.2 6: 4 76 12.2 6: 5 77 12.2 6: 6 78 12.2 6: 7 79 12.2 6: 8 80 12.2 6: 9 81 12.2 6: 10 82 12.2 6: 11 83 12.2 7: 0 84 12.3 7: 1 85 12.3 7: 2 86 12.3 7: 3 87 12.3 -2 SD 13.0 13.0 13.0 13.0 13.0 13.0 13.0 13.0 13.0 13.0 13.0 13.0 13.0 13.1 13.1 13.1 13.1 13.1 13.1 13.1 13.1 13.1 13.1 13.1 13.2 13.2 13.2 -1 SD 14.1 14.1 14.1 14.1 14.1 14.1 14.1 14.1 14.1 14.1 14.1 14.1 14.1 14.1 14.1 14.1 14.1 14.1 14.1 14.2 14.2 14.2 14.2 14.2 14.2 14.2 14.3 Median 15.3 15.3 15.3 15.3 15.3 15.3 15.3 15.3 15.3 15.3 15.3 15.3 15.3 15.3 15.3 15.4 15.4 15.4 15.4 15.4 15.4 15.4 15.5 15.5 15.5 15.5 15.5 1 SD 16.6 16.6 16.7 16.7 16.7 16.7 16.7 16.7 16.7 16.7 16.7 16.8 16.8 16.8 16.8 16.8 16.9 16.9 16.9 16.9 17.0 17.0 17.0 17.0 17.1 17.1 17.1 2 SD 3 SD 18.3 20.2 18.3 20.2 18.3 20.2 18.3 20.3 18.3 20.3 18.4 20.4 18.4 20.4 18.4 20.5 18.4 20.5 18.5 20.6 18.5 20.6 18.5 20.7 18.6 20.8 18.6 20.8 18.6 20.9 18.7 21.0 18.7 21.0 18.7 21.1 18.8 21.2 18.8 21.3 18.9 21.3 18.9 21.4 19.0 21.5 19.0 21.6 19.1 21.7 19.1 21.8 19.2 21.9', 'metadata': {'detection_class_prob': 0.8856329321861267, 'coordinates': {'points': ((217.8002471923828, 269.9461364746094), (217.8002471923828, 1642.882568359375), (1295.2818603515625, 1642.882568359375), (1295.2818603515625, 269.9461364746094)), 'system': 'PixelSpace', 'layout_width': 1500, 'layout_height': 2000}, 'last_modified': '2025-06-09T10:03:30', 'filetype': 'PPM', 'languages': ['eng'], 'page_number': 103}}\n",
      "{'type': 'Table', 'element_id': '29aab2e5-e24d-4b83-8b8c-8316f79388f1', 'text': 'Year: Month Months -3 SD 7: 7 91 12.3 7: 8 92 12.3 7: 9 93 12.4 7: 10 94 12.4 7: 11 95 12.4 8: 0 96 12.4 8: 1 97 12.4 8: 2 98 12.4 8: 3 99 12.4 8: 4 100 12.4 8: 5 101 12.5 8: 6 102 12.5 8: 7 103 12.5 8: 8 104 12.5 8: 9 105 12.5 8: 10 106 12.5 8: 11 107 12.5 9: 0 108 12.6 9: 1 109 12.6 9: 2 110 12.6 9: 3 111 12.6 9: 4 112 12.6 9: 5 113 12.6 9: 6 114 12.7 9: 7 115 12.7 9: 8 116 12.7 9: 9 117 12.7 9: 10 118 12.7 -2 SD 13.2 13.2 13.3 13.3 13.3 13.3 13.3 13.3 13.3 13.4 13.4 13.4 13.4 13.4 13.4 13.5 13.5 13.5 13.5 13.5 13.5 13.6 13.6 13.6 13.6 13.6 13.7 13.7 -1 SD 14.3 14.3 14.3 14.4 14.4 14.4 14.4 14.4 14.4 14.5 14.5 14.5 14.5 14.5 14.6 14.6 14.6 14.6 14.6 14.7 14.7 14.7 14.7 14.8 14.8 14.8 14.8 14.9 Median 15.6 15.6 15.7 15.7 15.7 15.7 15.8 15.8 15.8 15.8 15.9 15.9 15.9 15.9 16.0 16.0 16.0 16.0 16.1 16.1 16.1 16.2 16.2 16.2 16.3 16.3 16.3 16.4 1 SD 17.3 17.3 17.3 17.4 17.4 17.4 17.5 17.5 17.5 17.6 17.6 17.7 17.7 17.7 17.8 17.8 17.9 17.9 18.0 18.0 18.0 18.1 18.1 18.2 18.2 18.3 18.3 18.4 2 SD 19.4 19.4 19.5 19.6 19.6 19.7 19.7 19.8 19.9 19.9 20.0 20.1 20.1 20.2 20.3 20.3 20.4 20.5 20.5 20.6 20.7 20.8 20.8 20.9 21.0 21.1 21.2 21.2 3 SD 22.2 22.4 22.5 22.6 22.7 22.8 22.9 23.0 23.1 23.3 23.4 23.5 23.6 23.8 23.9 24.0 24.2 24.3 24.4 24.6 24.7 24.9 25.0 25.1 25.3 25.5 25.6 25.8', 'metadata': {'detection_class_prob': 0.8917718529701233, 'coordinates': {'points': ((216.5313262939453, 231.83242797851562), (216.5313262939453, 1633.2335205078125), (1293.982421875, 1633.2335205078125), (1293.982421875, 231.83242797851562)), 'system': 'PixelSpace', 'layout_width': 1500, 'layout_height': 2000}, 'last_modified': '2025-06-09T10:03:30', 'filetype': 'PPM', 'languages': ['eng'], 'page_number': 104}}\n",
      "{'type': 'Table', 'element_id': 'bf7ccfe9-a58d-4dca-a73f-3245f948caa7', 'text': 'Year: Month Months -3 SD 10: 1 121 12.8 10: 2 122 12.8 10: 3 123 12.8 10: 4 124 12.9 10: 5 125 12.9 10: 6 126 12.9 10: 7 127 12.9 10: 8 128 13.0 10: 9 129 13.0 10: 10 130 13.0 10: 11 131 13.0 11: 0 132 13.1 11: 1 133 13.1 11: 2 134 13.1 11: 3 135 13.1 11: 4 136 13.2 11: 5 137 13.2 11: 6 138 13.2 11: 7 139 13.2 11: 8 140 13.3 11: 9 141 13.3 11: 10 142 13.3 11: 11 143 13.4 12: 0 144 13.4 12: 1 145 13.4 12: 2 146 13.5 12: 3 147 13.5 12: 4 148 13.5 -2 SD 13.8 13.8 13.8 13.8 13.9 13.9 13.9 13.9 14.0 14.0 14.0 14.1 14.1 14.1 14.1 14.2 14.2 14.2 14.3 14.3 14.3 14.4 14.4 14.5 14.5 14.5 14.6 14.6 -1 SD 15.0 15.0 15.0 15.0 15.1 15.1 15.1 15.2 15.2 15.2 15.3 15.3 15.3 15.4 15.4 15.5 15.5 15.5 15.6 15.6 15.7 15.7 15.7 15.8 15.8 15.9 15.9 16.0 Median 16.5 16.5 16.6 16.6 16.6 16.7 16.7 16.8 16.8 16.9 16.9 16.9 17.0 17.0 17.1 17.1 17.2 17.2 17.3 17.3 17.4 17.4 17.5 17.5 17.6 17.6 17.7 17.8 1 SD 18.5 18.6 18.6 18.7 18.8 18.8 18.9 18.9 19.0 19.0 19.1 19.2 19.2 19.3 19.3 19.4 19.5 19.5 19.6 19.7 19.7 19.8 19.9 19.9 20.0 20.1 20.2 20.2 2 SD 21.5 21.6 21.7 21.7 21.8 21.9 22.0 22.1 22.2 22.3 22.4 22.5 22.5 22.6 22.7 22.8 22.9 23.0 23.1 23.2 23.3 23.4 23.5 23.6 23.7 23.8 23.9 24.0 3 SD 26.2 26.4 26.6 26.7 26.9 27.0 27.2 27.4 27.5 27.7 27.9 28.0 28.2 28.4 28.5 28.7 28.8 29.0 29.2 29.3 29.5 29.6 29.8 30.0 30.1 30.3 30.4 30.6', 'metadata': {'detection_class_prob': 0.8930266499519348, 'coordinates': {'points': ((214.8973846435547, 228.60400390625), (214.8973846435547, 1633.7479248046875), (1295.630126953125, 1633.7479248046875), (1295.630126953125, 228.60400390625)), 'system': 'PixelSpace', 'layout_width': 1500, 'layout_height': 2000}, 'last_modified': '2025-06-09T10:03:30', 'filetype': 'PPM', 'languages': ['eng'], 'page_number': 105}}\n",
      "{'type': 'Table', 'element_id': '1d707da8-8755-4ded-9b20-e09ff57f3c9d', 'text': 'Year: Month Months -3 SD 12: 7 151 13.6 12: 8 152 13.7 12: 9 153 13.7 12: 10 154 13.7 12: 11 155 13.8 13: 0 156 13.8 13: 1 157 13.8 13: 2 158 13.9 13: 3 159 13.9 13: 4 160 14.0 13: 5 161 14.0 13: 6 162 14.0 13: 7 163 14.1 13: 8 164 14.1 13: 9 165 14.1 13: 10 166 14.2 13: 11 167 14.2 14: 0 168 14.3 14: 1 169 14.3 14: 2 170 14.3 14: 3 171 14.4 14: 4 172 14.4 14: 5 173 14.5 14: 6 174 14.5 14: 7 175 14.5 14: 8 176 14.6 14: 9 177 14.6 14: 10 178 14.6 -2 SD 14.7 14.8 14.8 14.8 14.9 14.9 15.0 15.0 15.1 15.1 15.2 15.2 15.2 15.3 15.3 15.4 15.4 15.5 15.5 15.6 15.6 15.7 15.7 15.7 15.8 15.8 15.9 15.9 -1 SD 16.1 16.2 16.2 16.3 16.3 16.4 16.4 16.5 16.5 16.6 16.6 16.7 16.7 16.8 16.8 16.9 17.0 17.0 17.1 17.1 17.2 17.2 17.3 17.3 17.4 17.4 17.5 17.5 Median 17.9 18.0 18.0 18.1 18.2 18.2 18.3 18.4 18.4 18.5 18.6 18.6 18.7 18.7 18.8 18.9 18.9 19.0 19.1 19.1 19.2 19.3 19.3 19.4 19.5 19.5 19.6 19.6 1 SD 20.4 20.5 20.6 20.7 20.8 20.8 20.9 21.0 21.1 21.1 21.2 21.3 21.4 21.5 21.5 21.6 21.7 21.8 21.8 21.9 22.0 22.1 22.2 22.2 22.3 22.4 22.5 22.5 2 SD 24.3 24.4 24.5 24.6 24.7 24.8 24.9 25.0 25.1 25.2 25.2 25.3 25.4 25.5 25.6 25.7 25.8 25.9 26.0 26.1 26.2 26.3 26.4 26.5 26.5 26.6 26.7 26.8 3 SD 31.0 31.1 31.3 31.4 31.6 31.7 31.8 31.9 32.1 32.2 32.3 32.4 32.6 32.7 32.8 32.9 33.0 33.1 33.2 33.3 33.4 33.5 33.5 33.6 33.7 33.8 33.9 33.9', 'metadata': {'detection_class_prob': 0.8932328224182129, 'coordinates': {'points': ((214.9890594482422, 228.6647491455078), (214.9890594482422, 1633.1573486328125), (1295.173828125, 1633.1573486328125), (1295.173828125, 228.6647491455078)), 'system': 'PixelSpace', 'layout_width': 1500, 'layout_height': 2000}, 'last_modified': '2025-06-09T10:03:30', 'filetype': 'PPM', 'languages': ['eng'], 'page_number': 106}}\n",
      "{'type': 'Table', 'element_id': 'c43d886a-a183-485e-bb29-2e8e44b1192c', 'text': 'Year: Month Months -3 SD 15: 1 181 14.7 15: 2 182 14.8 15: 3 183 14.8 15: 4 184 14.8 15: 5 185 14.9 15: 6 186 14.9 15: 7 187 15.0 15: 8 188 15.0 15: 9 189 15.0 15: 10 190 15.0 15: 11 191 15.1 16: 0 192 15.1 16: 1 193 15.1 16: 2 194 15.2 16: 3 195 15.2 16: 4 196 15.2 16: 5 197 15.3 16: 6 198 15.3 16: 7 199 15.3 16: 8 200 15.3 16: 9 201 15.4 16: 10 202 15.4 16: 11 203 15.4 17: 0 204 15.4 17: 1 205 15.5 17: 2 206 15.5 17: 3 207 15.5 17: 4 208 15.5 -2 SD 16.1 16.1 16.1 16.2 16.2 16.3 16.3 16.3 16.4 16.4 16.5 16.5 16.5 16.6 16.6 16.7 16.7 16.7 16.8 16.8 16.8 16.9 16.9 16.9 17.0 17.0 17.0 17.1 -1 SD 17.7 17.8 17.8 17.9 17.9 18.0 18.0 18.1 18.1 18.2 18.2 18.2 18.3 18.3 18.4 18.4 18.5 18.5 18.6 18.6 18.7 18.7 18.7 18.8 18.8 18.9 18.9 18.9 Median 19.8 19.9 20.0 20.0 20.1 20.1 20.2 20.3 20.3 20.4 20.4 20.5 20.6 20.6 20.7 20.7 20.8 20.8 20.9 20.9 21.0 21.0 21.1 21.1 21.2 21.2 21.3 21.3 1 SD 22.8 22.8 22.9 23.0 23.0 23.1 23.2 23.3 23.3 23.4 23.5 23.5 23.6 23.7 23.7 23.8 23.8 23.9 24.0 24.0 24.1 24.2 24.2 24.3 24.3 24.4 24.4 24.5 2 SD 27.1 27.1 27.2 27.3 27.4 27.4 27.5 27.6 27.7 27.7 27.8 27.9 27.9 28.0 28.1 28.1 28.2 28.3 28.3 28.4 28.5 28.5 28.6 28.6 28.7 28.7 28.8 28.9 3 SD 34.1 34.2 34.3 34.3 34.4 34.5 34.5 34.6 34.6 34.7 34.7 34.8 34.8 34.8 34.9 34.9 35.0 35.0 35.0 35.1 35.1 35.1 35.2 35.2 35.2 35.2 35.3 35.3', 'metadata': {'detection_class_prob': 0.8931645154953003, 'coordinates': {'points': ((215.30311584472656, 228.8636474609375), (215.30311584472656, 1633.1199951171875), (1295.0770263671875, 1633.1199951171875), (1295.0770263671875, 228.8636474609375)), 'system': 'PixelSpace', 'layout_width': 1500, 'layout_height': 2000}, 'last_modified': '2025-06-09T10:03:30', 'filetype': 'PPM', 'languages': ['eng'], 'page_number': 107}}\n",
      "{'type': 'Table', 'element_id': '9d8491ab-b0b1-45aa-9e80-5e3102157b54', 'text': 'Year: Month Months -3 SD -2 SD -1 SD Median 17: 7 211 15.6 17.1 19.1 21.5 17: 8 212 15.6 17.2 19.1 21.5 17: 9 213 15.6 17.2 19.1 21.6 17: 10 214 15.7 17.2 19.2 21.6 17: 11 215 15.7 17.3 19.2 21.7 18: 0 216 15.7 17.3 19.2 21.7 18: 1 217 15.7 17.3 19.3 21.8 18: 2 218 15.7 17.3 19.3 21.8 18: 3 219 15.7 17.4 19.3 21.8 18: 4 220 15.8 17.4 19.4 21.9 18: 5 221 15.8 17.4 19.4 21.9 18: 6 222 15.8 17.4 19.4 22.0 18: 7 223 15.8 17.5 19.5 22.0 18: 8 224 15.8 17.5 19.5 22.0 18: 9 225 15.8 17.5 19.5 22.1 18: 10 226 15.8 17.5 19.6 22.1 18: 11 227 15.8 17.5 19.6 22.2 19: 0 228 15.9 17.6 19.6 22.2 1 SD 24.7 24.7 24.8 24.8 24.9 24.9 25.0 25.0 25.1 25.1 25.1 25.2 25.2 25.3 25.3 25.4 25.4 25.4 2 SD 29.0 29.1 29.1 29.2 29.2 29.2 29.3 29.3 29.4 29.4 29.5 29.5 29.5 29.6 29.6 29.6 29.7 29.7 3 SD 35.4 35.4 35.4 35.4 35.4 35.4 35.4 35.5 35.5 35.5 35.5 35.5 35.5 35.5 35.5 35.5 35.5 35.5', 'metadata': {'detection_class_prob': 0.9101894497871399, 'coordinates': {'points': ((213.91653442382812, 256.4876403808594), (213.91653442382812, 1169.162109375), (1291.2613525390625, 1169.162109375), (1291.2613525390625, 256.4876403808594)), 'system': 'PixelSpace', 'layout_width': 1500, 'layout_height': 2000}, 'last_modified': '2025-06-09T10:03:30', 'filetype': 'PPM', 'languages': ['eng'], 'page_number': 108}}\n",
      "{'type': 'Table', 'element_id': 'f8ad87eb-f2be-4fa9-b2bc-45213db18879', 'text': ': Normal : Severe undernutrition : Overweight : Obesity', 'metadata': {'detection_class_prob': 0.7500708103179932, 'coordinates': {'points': ((209.09898376464844, 1301.358154296875), (209.09898376464844, 1459.2265625), (907.3641357421875, 1459.2265625), (907.3641357421875, 1301.358154296875)), 'system': 'PixelSpace', 'layout_width': 1500, 'layout_height': 2000}, 'last_modified': '2025-06-09T10:03:30', 'filetype': 'PPM', 'languages': ['eng'], 'page_number': 108}}\n",
      "{'type': 'Table', 'element_id': '0d57c3c1-1724-4180-b203-4731780f2611', 'text': 'Year: Month Months -3 SD 5: 1 61 11.8 5: 2 62 11.8 5: 3 63 11.8 5: 4 64 11.8 5: 5 65 11.7 5: 6 66 11.7 5: 7 67 11.7 5: 8 68 11.7 5: 9 69 11.7 5: 10 70 11.7 5: 11 71 11.7 6: 0 72 11.7 6: 1 73 11.7 6: 2 74 11.7 6: 3 75 11.7 6: 4 76 11.7 6: 5 77 11.7 6: 6 78 11.7 6: 7 79 11.7 6: 8 80 11.7 6: 9 81 11.7 6: 10 82 11.7 6: 11 83 11.7 7: 0 84 11.8 7: 1 85 11.8 7: 2 86 11.8 7: 3 87 11.8 7: 4 88 11.8 7: 5 89 11.8 -2 SD 12.7 12.7 12.7 12.7 12.7 12.7 12.7 12.7 12.7 12.7 12.7 12.7 12.7 12.7 12.7 12.7 12.7 12.7 12.7 12.7 12.7 12.7 12.7 12.7 12.7 12.8 12.8 12.8 12.8 -1 SD 13.9 13.9 13.9 13.9 13.9 13.9 13.9 13.9 13.9 13.9 13.9 13.9 13.9 13.9 13.9 13.9 13.9 13.9 13.9 13.9 13.9 13.9 13.9 13.9 13.9 14.0 14.0 14.0 14.0 Median 15.2 15.2 15.2 15.2 15.2 15.2 15.2 15.3 15.3 15.3 15.3 15.3 15.3 15.3 15.3 15.3 15.3 15.3 15.3 15.3 15.4 15.4 15.4 15.4 15.4 15.4 15.5 15.5 15.5 1 SD 16.9 16.9 16.9 16.9 16.9 16.9 16.9 17.0 17.0 17.0 17.0 17.0 17.0 17.0 17.1 17.1 17.1 17.1 17.2 17.2 17.2 17.2 17.3 17.3 17.3 17.4 17.4 17.4 17.5 2 SD 18.9 18.9 18.9 18.9 19.0 19.0 19.0 19.1 19.1 19.1 19.2 19.2 19.3 19.3 19.3 19.4 19.4 19.5 19.5 19.6 19.6 19.7 19.7 19.8 19.8 19.9 20.0 20.0 20.1 3 SD 21.3 21.4 21.5 21.5 21.6 21.7 21.7 21.8 21.9 22.0 22.1 22.1 22.2 22.3 22.4 22.5 22.6 22.7 22.8 22.9 23.0 23.1 23.2 23.3 23.4 23.5 23.6 23.7 23.9', 'metadata': {'detection_class_prob': 0.8900789618492126, 'coordinates': {'points': ((216.97145080566406, 285.5509948730469), (216.97145080566406, 1695.2237548828125), (1298.5260009765625, 1695.2237548828125), (1298.5260009765625, 285.5509948730469)), 'system': 'PixelSpace', 'layout_width': 1500, 'layout_height': 2000}, 'last_modified': '2025-06-09T10:03:30', 'filetype': 'PPM', 'languages': ['eng'], 'page_number': 109}}\n",
      "{'type': 'Table', 'element_id': 'aadd1cf0-6f5e-411b-9cf5-65f217c8cfcb', 'text': 'Year: Month Months -3 SD 7: 7 91 11.8 7: 8 92 11.8 7: 9 93 11.8 7: 10 94 11.9 7: 11 95 11.9 8: 0 96 11.9 8: 1 97 11.9 8: 2 98 11.9 8: 3 99 11.9 8: 4 100 11.9 8: 5 101 12.0 8: 6 102 12.0 8: 7 103 12.0 8: 8 104 12.0 8: 9 105 12.0 8: 10 106 12.1 8: 11 107 12.1 9: 0 108 12.1 9: 1 109 12.1 9: 2 110 12.1 9: 3 111 12.2 9: 4 112 12.2 9: 5 113 12.2 9: 6 114 12.2 9: 7 115 12.3 9: 8 116 12.3 9: 9 117 12.3 9: 10 118 12.3 -2 SD 12.8 12.8 12.8 12.9 12.9 12.9 12.9 12.9 12.9 13.0 13.0 13.0 13.0 13.0 13.1 13.1 13.1 13.1 13.2 13.2 13.2 13.2 13.3 13.3 13.3 13.4 13.4 13.4 -1 SD 14.0 14.0 14.1 14.1 14.1 14.1 14.1 14.2 14.2 14.2 14.2 14.3 14.3 14.3 14.3 14.4 14.4 14.4 14.5 14.5 14.5 14.6 14.6 14.6 14.7 14.7 14.7 14.8 Median 15.5 15.6 15.6 15.6 15.7 15.7 15.7 15.7 15.8 15.8 15.8 15.9 15.9 15.9 16.0 16.0 16.1 16.1 16.1 16.2 16.2 16.3 16.3 16.3 16.4 16.4 16.5 16.5 1 SD 17.5 17.6 17.6 17.6 17.7 17.7 17.8 17.8 17.9 17.9 18.0 18.0 18.1 18.1 18.2 18.2 18.3 18.3 18.4 18.4 18.5 18.6 18.6 18.7 18.7 18.8 18.8 18.9 2 SD 20.2 20.3 20.3 20.4 20.5 20.6 20.6 20.7 20.8 20.9 20.9 21.0 21.1 21.2 21.3 21.3 21.4 21.5 21.6 21.7 21.8 21.9 21.9 22.0 22.1 22.2 22.3 22.4 3 SD 24.1 24.2 24.4 24.5 24.6 24.8 24.9 25.1 25.2 25.3 25.5 25.6 25.8 25.9 26.1 26.2 26.4 26.5 26.7 26.8 27.0 27.2 27.3 27.5 27.6 27.8 27.9 28.1', 'metadata': {'detection_class_prob': 0.892000138759613, 'coordinates': {'points': ((217.36358642578125, 232.8482208251953), (217.36358642578125, 1632.186767578125), (1297.42431640625, 1632.186767578125), (1297.42431640625, 232.8482208251953)), 'system': 'PixelSpace', 'layout_width': 1500, 'layout_height': 2000}, 'last_modified': '2025-06-09T10:03:30', 'filetype': 'PPM', 'languages': ['eng'], 'page_number': 110}}\n",
      "{'type': 'Table', 'element_id': '8dfc5356-26f8-42d7-a3f9-8dd491a618fc', 'text': 'Year: Month Months -3 SD 10: 1 121 12.4 10: 2 122 12.4 10: 3 123 12.5 10: 4 124 12.5 10: 5 125 12.5 10: 6 126 12.5 10: 7 127 12.6 10: 8 128 12.6 10: 9 129 12.6 10: 10 130 12.7 10: 11 131 12.7 11: 0 132 12.7 11: 1 133 12.8 11: 2 134 12.8 11: 3 135 12.8 11: 4 136 12.9 11: 5 137 12.9 11: 6 138 12.9 11: 7 139 13.0 11: 8 140 13.0 11: 9 141 13.0 11: 10 142 13.1 11: 11 143 13.1 12: 0 144 13.2 12: 1 145 13.2 12: 2 146 13.2 12: 3 147 13.3 12: 4 148 13.3 -2 SD 13.5 13.5 13.6 13.6 13.6 13.7 13.7 13.7 13.8 13.8 13.8 13.9 13.9 14.0 14.0 14.0 14.1 14.1 14.2 14.2 14.3 14.3 14.3 14.4 14.4 14.5 14.5 14.6 -1 SD 14.9 14.9 15.0 15.0 15.0 15.1 15.1 15.2 15.2 15.3 15.3 15.3 15.4 15.4 15.5 15.5 15.6 15.6 15.7 15.7 15.8 15.8 15.9 16.0 16.0 16.1 16.1 16.2 Median 16.7 16.7 16.8 16.8 16.9 16.9 17.0 17.0 17.1 17.1 17.2 17.2 17.3 17.4 17.4 17.5 17.5 17.6 17.7 17.7 17.8 17.9 17.9 18.0 18.1 18.1 18.2 18.3 1 SD 19.1 19.2 19.2 19.3 19.4 19.4 19.5 19.6 19.6 19.7 19.8 19.9 19.9 20.0 20.1 20.2 20.2 20.3 20.4 20.5 20.6 20.6 20.7 20.8 20.9 21.0 21.1 21.1 2 SD 22.7 22.8 22.8 22.9 23.0 23.1 23.2 23.3 23.4 23.5 23.6 23.7 23.8 23.9 24.0 24.1 24.2 24.3 24.4 24.5 24.7 24.8 24.9 25.0 25.1 25.2 25.3 25.4 3 SD 28.5 28.7 28.8 29.0 29.1 29.3 29.4 29.6 29.7 29.9 30.0 30.2 30.3 30.5 30.6 30.8 30.9 31.1 31.2 31.4 31.5 31.6 31.8 31.9 32.0 32.2 32.3 32.4', 'metadata': {'detection_class_prob': 0.8936370015144348, 'coordinates': {'points': ((215.31915283203125, 228.136474609375), (215.31915283203125, 1633.41748046875), (1299.054443359375, 1633.41748046875), (1299.054443359375, 228.136474609375)), 'system': 'PixelSpace', 'layout_width': 1500, 'layout_height': 2000}, 'last_modified': '2025-06-09T10:03:30', 'filetype': 'PPM', 'languages': ['eng'], 'page_number': 111}}\n",
      "{'type': 'Table', 'element_id': '1d222f61-ac27-4060-9a04-d922b18d82c5', 'text': 'Year: Month Months -3 SD 12: 7 151 13.4 12: 8 152 13.5 12: 9 153 13.5 12: 10 154 13.5 12: 11 155 13.6 13: 0 156 13.6 13: 1 157 13.6 13: 2 158 13.7 13: 3 159 13.7 13: 4 160 13.8 13: 5 161 13.8 13: 6 162 13.8 13: 7 163 13.9 13: 8 164 13.9 13: 9 165 13.9 13: 10 166 14.0 13: 11 167 14.0 14: 0 168 14.0 14: 1 169 14.1 14: 2 170 14.1 14: 3 171 14.1 14: 4 172 14.1 14: 5 173 14.2 14: 6 174 14.2 14: 7 175 14.2 14: 8 176 14.3 14: 9 177 14.3 14: 10 178 14.3 -2 SD 14.7 14.8 14.8 14.8 14.9 14.9 15.0 15.0 15.1 15.1 15.2 15.2 15.2 15.3 15.3 15.4 15.4 15.4 15.5 15.5 15.6 15.6 15.6 15.7 15.7 15.7 15.8 15.8 -1 SD 16.3 16.4 16.4 16.5 16.6 16.6 16.7 16.7 16.8 16.8 16.9 16.9 17.0 17.0 17.1 17.1 17.2 17.2 17.3 17.3 17.4 17.4 17.5 17.5 17.6 17.6 17.6 17.7 Median 18.5 18.5 18.6 18.7 18.7 18.8 18.9 18.9 19.0 19.1 19.1 19.2 19.3 19.3 19.4 19.4 19.5 19.6 19.6 19.7 19.7 19.8 19.9 19.9 20.0 20.0 20.1 20.1 1 SD 21.4 21.5 21.6 21.6 21.7 21.8 21.9 22.0 22.0 22.1 22.2 22.3 22.4 22.4 22.5 22.6 22.7 22.7 22.8 22.9 22.9 23.0 23.1 23.1 23.2 23.3 23.3 23.4 2 SD 25.7 25.8 25.9 26.0 26.1 26.2 26.3 26.4 26.5 26.6 26.7 26.8 26.9 27.0 27.1 27.1 27.2 27.3 27.4 27.5 27.6 27.7 27.7 27.8 27.9 28.0 28.0 28.1 3 SD 32.8 33.0 33.1 33.2 33.3 33.4 33.6 33.7 33.8 33.9 34.0 34.1 34.2 34.3 34.4 34.5 34.6 34.7 34.7 34.8 34.9 35.0 35.1 35.1 35.2 35.3 35.4 35.4', 'metadata': {'detection_class_prob': 0.8934029340744019, 'coordinates': {'points': ((216.15504455566406, 228.05320739746094), (216.15504455566406, 1632.6661376953125), (1298.2911376953125, 1632.6661376953125), (1298.2911376953125, 228.05320739746094)), 'system': 'PixelSpace', 'layout_width': 1500, 'layout_height': 2000}, 'last_modified': '2025-06-09T10:03:30', 'filetype': 'PPM', 'languages': ['eng'], 'page_number': 112}}\n",
      "{'type': 'Table', 'element_id': '2c762c49-e494-4880-807c-615de1062e58', 'text': 'Year: Month Months -3 SD 15: 1 181 14.4 15: 2 182 14.4 15: 3 183 14.4 15: 4 184 14.5 15: 5 185 14.5 15: 6 186 14.5 15: 7 187 14.5 15: 8 188 14.5 15: 9 189 14.5 15: 10 190 14.6 15: 11 191 14.6 16: 0 192 14.6 16: 1 193 14.6 16: 2 194 14.6 16: 3 195 14.6 16: 4 196 14.6 16: 5 197 14.6 16: 6 198 14.7 16: 7 199 14.7 16: 8 200 14.7 16: 9 201 14.7 16: 10 202 14.7 16: 11 203 14.7 17: 0 204 14.7 17: 1 205 14.7 17: 2 206 14.7 17: 3 207 14.7 17: 4 208 14.7 -2 SD 15.9 15.9 16.0 16.0 16.0 16.0 16.1 16.1 16.1 16.1 16.2 16.2 16.2 16.2 16.2 16.2 16.3 16.3 16.3 16.3 16.3 16.3 16.3 16.4 16.4 16.4 16.4 16.4 -1 SD 17.8 17.8 17.9 17.9 17.9 18.0 18.0 18.0 18.1 18.1 18.1 18.2 18.2 18.2 18.2 18.3 18.3 18.3 18.3 18.3 18.4 18.4 18.4 18.4 18.4 18.4 18.5 18.5 Median 20.3 20.3 20.4 20.4 20.4 20.5 20.5 20.6 20.6 20.6 20.7 20.7 20.7 20.8 20.8 20.8 20.9 20.9 20.9 20.9 21.0 21.0 21.0 21.0 21.1 21.1 21.1 21.1 1 SD 23.6 23.6 23.7 23.7 23.8 23.8 23.9 23.9 24.0 24.0 24.1 24.1 24.1 24.2 24.2 24.3 24.3 24.3 24.4 24.4 24.4 24.4 24.5 24.5 24.5 24.6 24.6 24.6 2 SD 28.3 28.4 28.4 28.5 28.5 28.6 28.6 28.7 28.7 28.8 28.8 28.9 28.9 29.0 29.0 29.0 29.1 29.1 29.1 29.2 29.2 29.2 29.3 29.3 29.3 29.3 29.4 29.4 3 SD 35.6 35.7 35.7 35.8 35.8 35.8 35.9 35.9 36.0 36.0 36.0 36.1 36.1 36.1 36.1 36.2 36.2 36.2 36.2 36.2 36.3 36.3 36.3 36.3 36.3 36.3 36.3 36.3', 'metadata': {'detection_class_prob': 0.8935256600379944, 'coordinates': {'points': ((215.07899475097656, 228.86524963378906), (215.07899475097656, 1633.0147705078125), (1298.53173828125, 1633.0147705078125), (1298.53173828125, 228.86524963378906)), 'system': 'PixelSpace', 'layout_width': 1500, 'layout_height': 2000}, 'last_modified': '2025-06-09T10:03:30', 'filetype': 'PPM', 'languages': ['eng'], 'page_number': 113}}\n",
      "{'type': 'Table', 'element_id': '2fc3ac08-7994-430c-80b9-a927fa1c65ca', 'text': 'Year: Month Months -3 SD 17: 7 211 14.7 17: 8 212 14.7 17: 9 213 14.7 17: 10 214 14.7 17: 11 215 14.7 18: 0 216 14.7 18: 1 217 14.7 18: 2 218 14.7 18: 3 219 14.7 18: 4 220 14.7 18: 5 221 14.7 18: 6 222 14.7 18: 7 223 14.7 18: 8 224 14.7 18: 9 225 14.7 18: 10 226 14.7 18: 11 227 14.7 19: 0 228 14.7 -2 SD -1 SD Median 16.4 18.5 21.2 16.4 18.5 21.2 16.4 18.5 21.2 16.4 18.5 21.2 16.4 18.6 21.2 16.4 18.6 21.3 16.5 18.6 21.3 16.5 18.6 21.3 16.5 18.6 21.3 16.5 18.6 21.3 16.5 18.6 21.3 16.5 18.6 21.3 16.5 18.6 21.4 16.5 18.6 21.4 16.5 18.7 21.4 16.5 18.7 21.4 16.5 18.7 21.4 16.5 18.7 21.4 1 SD 24.7 24.7 24.7 24.7 24.8 24.8 24.8 24.8 24.8 24.8 24.9 24.9 24.9 24.9 24.9 24.9 25.0 25.0 2 SD 29.4 29.5 29.5 29.5 29.5 29.5 29.5 29.6 29.6 29.6 29.6 29.6 29.6 29.6 29.6 29.6 29.7 29.7 3 SD 36.3 36.3 36.3 36.3 36.3 36.3 36.3 36.3 36.3 36.3 36.2 36.2 36.2 36.2 36.2 36.2 36.2 36.2', 'metadata': {'detection_class_prob': 0.9104984998703003, 'coordinates': {'points': ((213.5939483642578, 256.6174011230469), (213.5939483642578, 1169.958984375), (1292.6600341796875, 1169.958984375), (1292.6600341796875, 256.6174011230469)), 'system': 'PixelSpace', 'layout_width': 1500, 'layout_height': 2000}, 'last_modified': '2025-06-09T10:03:30', 'filetype': 'PPM', 'languages': ['eng'], 'page_number': 114}}\n",
      "{'type': 'Table', 'element_id': 'abe064a4-e74c-4897-a272-6dba140e2834', 'text': ': Normal : Severe undernutrition : Overweight : Obesity', 'metadata': {'detection_class_prob': 0.7546701431274414, 'coordinates': {'points': ((209.41453552246094, 1301.349609375), (209.41453552246094, 1459.246826171875), (907.00244140625, 1459.246826171875), (907.00244140625, 1301.349609375)), 'system': 'PixelSpace', 'layout_width': 1500, 'layout_height': 2000}, 'last_modified': '2025-06-09T10:03:30', 'filetype': 'PPM', 'languages': ['eng'], 'page_number': 114}}\n",
      "{'type': 'Table', 'element_id': 'dbd8ccbc-f523-40b1-bb1f-7c72f49ab27c', 'text': 'GLV Amaranth (stem) 19 Ambat chukka 15 Celery stalk 18 Spinach stalk 20 Roots and tubers Radish table 16 Radish white 17 Other vegetables Ash gourd 10 Bottle gourd 12 Cluster beans 16 Colocasia stem 18 Cucumber 13 Ghosala 18 Kovai 18 Parwal 20 Ridge guard 17 Snake guard 18 Vegetable marrow 17 Fruits Bilimbi 19 Jamb safed 19 Musk melon 17 Water melon 16 Orange juice 9', 'metadata': {'detection_class_prob': 0.8720334768295288, 'coordinates': {'points': ((343.6507263183594, 357.0396728515625), (343.6507263183594, 1431.5692138671875), (1155.540771484375, 1431.5692138671875), (1155.540771484375, 357.0396728515625)), 'system': 'PixelSpace', 'layout_width': 1500, 'layout_height': 2000}, 'last_modified': '2025-06-09T10:03:30', 'filetype': 'PPM', 'languages': ['eng'], 'page_number': 115}}\n",
      "{'type': 'Table', 'element_id': '39144438-3d56-485a-ad1e-113437d3fc25', 'text': 'Food Stuff Kcal/100g Leafy vegetables Chekkur manis 103 Colocasia leaves (dried) 277 Curry leaves 108 Fetid cassia (dried) (Chakunda) 292 Rape leaves (dried) 297 Tamarind leaves 115 Roots & Tubers Arrow root flour 334 Parsnip 101 Sweet potato 120 Tapioca 157 Yam ordinary 111 Yam wild 110 Other vegetables Beans, scarlet runner 158 Jack fruit, seeds 133 Karonda (dry) 364 Lotus stem (dry) 234 Sundakai (dry) 269 Water chestnut (fresh) 115 Water chestnut (dry) 330 Fruits Apricot (dry) 306 Avacado pear 215 Banana 116 Bael fruit 116 Currants, red 316 Dates (dried) 317 Dates fresh 144 Mahua (ripe) 111 Raisins 308 Seetaphal 104 Wood apple 134', 'metadata': {'detection_class_prob': 0.8882259130477905, 'coordinates': {'points': ((339.0949401855469, 291.9421691894531), (339.0949401855469, 1687.0926513671875), (1175.2044677734375, 1687.0926513671875), (1175.2044677734375, 291.9421691894531)), 'system': 'PixelSpace', 'layout_width': 1500, 'layout_height': 2000}, 'last_modified': '2025-06-09T10:03:30', 'filetype': 'PPM', 'languages': ['eng'], 'page_number': 116}}\n",
      "{'type': 'Table', 'element_id': '88454b3a-9c33-4123-93a9-d8e5aa8e550a', 'text': 'Preparation Quantity for one serving (Kcal) Rice 1 cup 170 Phulka 1 No. 80 Paratha 1 No. 150 Puri 1 No. 80 Bread 2 slices 170 Poha 1 cup 270 Upma 1 cup 270 Idli 2 Nos. 150 Dosa 1 No. 125 Kichidi 1 cup 200 Wheat porridge 1 cup 220 Semolina porridge 1 cup 220 Cereal flakes with milk (corn/wheat/rice) 1 cup 220 2. Pulse Plain dhal ½ cup 100 Sambar 1 cup 110 3. Vegetable With gravy 1 cup 170 Dry 1 cup 150 4. Non-Vegetarian Boiled egg 1 No. 90 Ommelette 1 No. 160 Fried egg 1 No. 160 Mutton curry ¾ cup 260 Chicken curry ¾ cup 240 Fish fried 2 big pieces 190 Fish cutlet 2 Nos. 190 Prawn curry ¾ cup 220 Keema kofta curry ¾ cup (6 small koftas)', 'metadata': {'detection_class_prob': 0.9176771640777588, 'coordinates': {'points': ((221.0374298095703, 369.09710693359375), (221.0374298095703, 1603.5816650390625), (1284.9473876953125, 1603.5816650390625), (1284.9473876953125, 369.09710693359375)), 'system': 'PixelSpace', 'layout_width': 1500, 'layout_height': 2000}, 'last_modified': '2025-06-09T10:03:30', 'filetype': 'PPM', 'languages': ['eng'], 'page_number': 117}}\n",
      "{'type': 'Table', 'element_id': 'bc770022-905a-404e-9e73-93a3f4bf823b', 'text': 'Preparation Quantity for one serving Bajji or pakora 8 Nos. Besan ka pura 1 No. Chat (Dahi-pakori) 5 pieces Cheese balls 2 Nos. Dahi vada 2 Nos. Vada 2 Nos. Masala vada 2 Nos. Masala dosa 1 No. Pea-kachori 2 Nos. Potato bonda 2 Nos. Sago vada 2 Nos. Samosa 1 No. Sandwiches (butter - 2tbsp) 2 Nos. Vegetable puff 1 No. Pizza (Cheese and tomato) 1 slice Coconut/groundnuts/til 2 tbsp Tomato 1 tbsp Tamarind (with jaggery) 1 tbsp Besan barfi 2 small pieces Chikki 2 pieces Fruit cake 1 piece Rice puttu ½ cup Sandesh 2 Nos. Double ka meetha ½ cup Halwa (kesari) ½ cup Jelly/Jam 1 tbsp Custard (caramel) ½ cup Srikhand ½ cup Milk chocolate 25 g (Kcal) 280 220 220 250 180 140 150 200 380 200 210 200 200 200 200 120 10 60 400 290 270 280 140 280 320 20 160 380 140', 'metadata': {'detection_class_prob': 0.9094807505607605, 'coordinates': {'points': ((229.52108764648438, 240.7112579345703), (229.52108764648438, 1538.9808349609375), (1294.71728515625, 1538.9808349609375), (1294.71728515625, 240.7112579345703)), 'system': 'PixelSpace', 'layout_width': 1500, 'layout_height': 2000}, 'last_modified': '2025-06-09T10:03:30', 'filetype': 'PPM', 'languages': ['eng'], 'page_number': 118}}\n",
      "{'type': 'Table', 'element_id': 'c81840d6-1b4b-480e-a42b-220e6b828a3f', 'text': \"Preparation 8. Beverages Tea (2 tsp sugar + 50 ml toned milk) Coffee (2 tsp sugar + 100 ml) Cow's milk (2 tsp sugar) Buffalo's milk (2 tsp sugar) Lassi (2 tsp sugar) Squash Syrups (Sharabats) Cold drinks Fresh lime juice Quantity for one serving 1 cup 1 cup 1 cup 1 cup 1 cup/glass (200 ml) 1 cup/glass 1 cup/glass 1 bottle (200 ml) 1 glass Calories (Kcal) 75 110 180 320 110 75 200 150 60\", 'metadata': {'detection_class_prob': 0.915199339389801, 'coordinates': {'points': ((221.88978576660156, 224.0942840576172), (221.88978576660156, 763.2211303710938), (1282.456787109375, 763.2211303710938), (1282.456787109375, 224.0942840576172)), 'system': 'PixelSpace', 'layout_width': 1500, 'layout_height': 2000}, 'last_modified': '2025-06-09T10:03:30', 'filetype': 'PPM', 'languages': ['eng'], 'page_number': 119}}\n",
      "{'type': 'Table', 'element_id': 'fbf1dbf7-3d8b-4b83-aa61-299fdd0cd61d', 'text': 'Foods (g)ALA Cereal/Millet Wheat & Pearl millet (bajra) 0.14 Pulses Blackgram (kala chana), kidney 0.5 beans (rajmah) & cowpea (lobia) Other pulses 0.16 Vegetables Green leafy 0.16 Other Vegetables 0.025 Fruits 0.025 Spices Fenugreek seed (methi) 2.0 Mustard (sarson) 10.0 Unconventional Flaxseed (alsi) 20.0 Perilla seeds (Bhanjira) 33.0', 'metadata': {'detection_class_prob': 0.9155608415603638, 'coordinates': {'points': ((446.9976806640625, 343.41375732421875), (446.9976806640625, 1031.8016357421875), (1049.580078125, 1031.8016357421875), (1049.580078125, 343.41375732421875)), 'system': 'PixelSpace', 'layout_width': 1500, 'layout_height': 2000}, 'last_modified': '2025-06-09T10:03:30', 'filetype': 'PPM', 'languages': ['eng'], 'page_number': 121}}\n",
      "{'type': 'Table', 'element_id': 'f0f70b05-f960-4bfe-aafc-f397b6a9f2a1', 'text': 'Sl. No. Name of the foods Glycemic Index Sl. No. Name of the foods 1 White wheat bread 75 + 2 17 Mango (raw) 2 Whole wheat bread 74 + 2 18 Watermelon (raw) 3 Wheat roti 62 + 3 19 Potato (boiled) 4 Chappathi 52 +4 20 French fries (potato) 5 White boiled rice 73 + 4 21 Carrots (boiled) 6 Brown boiled rice 68 + 4 22 Milk (full fat) 7 Barley 28 + 2 23 Milk (skim) 8 Instant oat porridge 79 + 3 24 Ice cream 9 Rice porridge /congee 78 + 9 25 Chick peas 10 Millet porridge 67 + 5 26 Soya beans 11 Sweet corn 52 + 5 27 Lentils 12 Cornflakes 81 + 6 28 Chocolate 13 Apple (raw) 36 + 2 29 Popcorn 14 Orange 43 + 3 30 Soft drinks/soda 15 Banana 51 + 3 31 Honey Glycemic Index 51 + 5 76 + 4 78 + 4 63 + 5 39 + 4 39 + 3 37 + 4 51 + 3 28 + 9 16 + 1 32 + 5 40 + 3 65 + 5 59 + 3 61 + 3', 'metadata': {'detection_class_prob': 0.9326213002204895, 'coordinates': {'points': ((212.12428283691406, 334.63885498046875), (212.12428283691406, 1056.306884765625), (1303.34130859375, 1056.306884765625), (1303.34130859375, 334.63885498046875)), 'system': 'PixelSpace', 'layout_width': 1500, 'layout_height': 2000}, 'last_modified': '2025-06-09T10:03:30', 'filetype': 'PPM', 'languages': ['eng'], 'page_number': 122}}\n",
      "{'type': 'Table', 'element_id': '105869ee-200d-44ff-af69-f605f8c7470e', 'text': 'Activity Kcal/hr Activity Kcal/hr Cleaning/Mopping 210 Shuttle 348 Gardening 300 Table Tennis 245 Watching TV 86 Tennis 392 Cycling Volley Ball 180 15 (Km/hr) 360 Dancing 372 Running Fishing 222 12 (Km/hr) 750 Shopping 204 10 (Km/hr) 655 Typing 108 8 (Km/hr) 522 Sleeping 57 6 (Km/hr) 353 Standing 132 Walking 4 (Km/hr) 160 Sitting 86', 'metadata': {'detection_class_prob': 0.9037761092185974, 'coordinates': {'points': ((207.93133544921875, 1109.3232421875), (207.93133544921875, 1577.4024658203125), (1297.525146484375, 1577.4024658203125), (1297.525146484375, 1109.3232421875)), 'system': 'PixelSpace', 'layout_width': 1500, 'layout_height': 2000}, 'last_modified': '2025-06-09T10:03:30', 'filetype': 'PPM', 'languages': ['eng'], 'page_number': 123}}\n",
      "{'type': 'Table', 'element_id': '905cfc77-7a3d-446b-8415-a852ecb285ce', 'text': 'Zones Examples of Activities (Kcal/min) 1 Sleeping, Resting, Relaxing 1.0 2 Sitting (Light activities); eating, reading writing, listening, talking 1.5 3 Standing, standing (Light activity); washing face, shaving, combing, watering plants 2.3 4 Walking (Slow), driving, dusting, bathing, dressing, marketing, childcare 2.8 5 Light manual work, sweeping, cleaning utensils, washing clothes, other house chores 3.3 6 Warm-up & recreational activities, walking up/ down stairs, cycling, fetching water 4.8 7 Manual work (moderate pace), loading/unloading, walking with load, harvesting, carpentry, plumbing 5.6 8 Practice of non-competitive sport/ games, cycling (15 kmph), gymnastics,swimming, digging 6.0 9 High intense manual work & sports activities – tournaments,wood cutting,carrying heavy loads, running, jogging 7.8', 'metadata': {'detection_class_prob': 0.8768256902694702, 'coordinates': {'points': ((207.51744079589844, 502.0322570800781), (207.51744079589844, 1515.5338134765625), (1292.295654296875, 1515.5338134765625), (1292.295654296875, 502.0322570800781)), 'system': 'PixelSpace', 'layout_width': 1500, 'layout_height': 2000}, 'last_modified': '2025-06-09T10:03:30', 'filetype': 'PPM', 'languages': ['eng'], 'page_number': 124}}\n",
      "{'type': 'Table', 'element_id': '086071bf-6fdb-40aa-ac2c-4051bd858d44', 'text': 'BIS (IS 10500-91) ICMR Parameters Desirable Limit Max. permissible Limits in the absence of alternate source Desirable Limit Max. permissible limits 1 2 3 4 5 6 1 PH 6.5 to8.5 No relaxation 7.0 – 8.5 6.5 – 9.2 2 Total dissolved solids mg/L 500 2000 500 1500-3000 3 Total hardness as CaCO3 mg/L 300 600 300 600 4 Calcium as Ca mg/L 75 200 75 200 5 Magnesium as Mg mg/L 30 100 50 - 6 Chloride as Cl mg/L 250 1000 200 1000 7 Sulph 4 ate as SO mg/L 200 400 200 400 8 3 Nitrate as NO mg/L 45 100 20 100 9 Iron as Fe mg/L 0.3 1 0.1 1 10 Fluoride as F mg/L 1 1.5 1 1.5 11 Arsenic as As mg/L 0.05 0.05 - 0.05 12 Manganese as Mn mg/L 0.1 0.3 0.1 0.5 13 Zinc as Zn mg/L 5 15 0.1 5 14 Copper as Cu mg/L 0.05 1.5 0.05 1.5 15 Chromium as Cr mg/L 0.05 0.05 - - 16 Lead as Pb mg/L 0.05 0.05 - 0.5 17 Mercury as Hg mg/L 0.001 0.001 - 0.001 18 Cadmium as Cd mg/L 0.01 0.01 - 0.01 19 Cyanide as CN mg/L 0.05 0.05 - 0.05 20 Minerals Oil mg/L 0.01 0.03 - - 21 Phenolic compounds mg/L 0.001 0.002 - - 22 Total Coliform MPN/100 ml 1 10 - - 23 Residual free chlorine mg/L 0.2 - - - 24 Aluminium as A1 mg/L 0.03 0.2 25 Boron as B mg/L 1 5 26 Selenium as Se mg/L 0.01 - 27 Pesticides Absent 0.001', 'metadata': {'detection_class_prob': 0.9002046585083008, 'coordinates': {'points': ((217.64039611816406, 343.3645324707031), (217.64039611816406, 1703.2095947265625), (1303.6488037109375, 1703.2095947265625), (1303.6488037109375, 343.3645324707031)), 'system': 'PixelSpace', 'layout_width': 1500, 'layout_height': 2000}, 'last_modified': '2025-06-09T10:03:30', 'filetype': 'PPM', 'languages': ['eng'], 'page_number': 127}}\n",
      "{'type': 'Table', 'element_id': '8ffbba68-0cf9-49b2-b2bb-b1b2e1d0e026', 'text': 'g/Portion Energy Protein Carbohydrate (Kcal) (g) (g) Cereals & millets 30 100 3.0 20 Pulses 30 100 6.0 15 Egg 50 85 7.0 - Meat/chicken/ 50 100 9.0 - fish Milk (ml) & milk products 100 70 3.0 5 Roots & Tubers 100 80 1.3 18 Green leafy vegetables 100 46 3.6 - Other vegetables 100 28 1.7 - Fruits 100 40 - 10 Sugar 5 20 - 5 Fat & Oils (visible) 5 45 - - Fat (g) 0.8 0.7 7.0 7.0 3.0 - 0.4 0.2 - - 5.0', 'metadata': {'detection_class_prob': 0.9172444939613342, 'coordinates': {'points': ((213.5723114013672, 447.395751953125), (213.5723114013672, 1400.7977294921875), (1292.5963134765625, 1400.7977294921875), (1292.5963134765625, 447.395751953125)), 'system': 'PixelSpace', 'layout_width': 1500, 'layout_height': 2000}, 'last_modified': '2025-06-09T10:03:30', 'filetype': 'PPM', 'languages': ['eng'], 'page_number': 128}}\n",
      "{'type': 'Table', 'element_id': '03518d7a-06ef-457a-84c6-052587173851', 'text': 'Nutrients Energy Protein Beta- Carotene Folic Acid Food Groups Foods Cereals and Tubers Rice, wheat and tapioca Nuts and Oilseeds Almond, cashewnut, dry coconut and groundnut Vegetable oil, ghee and Vanaspati Pulses and Legumes Bengalgram, blackgram, greengram, lentil and redgram Nuts and Oilseeds Groundnuts, cashewnuts and almond Fish Meat and Poultry Meat Egg white Milk products Cheese, khoa, skimmed milk powder (cow) and whole milk powder (cow) Leafy vegetables Ambat chukka, coriander leaves, ponnaganti, spinach, leaves, mint, radish leaves Some other leafy vegeta- bles like agathi, ama- ranth, curry leaves, fenugreek leaves and gogu Other vegetables Pumpkin and green chillies Carrot Fruits Ripe mango Papaya Green leafy vegetables Amaranth, ambat chukka, mint and spinach Pulses Bengalgram, blackgram, greengram and redgram edible portion 340 Kcal 600 Kcal 900 Kcal 22 g 23 g 20 g 22 g 11 g 30 g 2-6 mg 7-15 mg. 1 mg 6.5 mg 2.0 mg 0.9 mg 120 mg 120 mg', 'metadata': {'detection_class_prob': 0.8718157410621643, 'coordinates': {'points': ((175.6520233154297, 337.26708984375), (175.6520233154297, 1695.9232177734375), (1249.57275390625, 1695.9232177734375), (1249.57275390625, 337.26708984375)), 'system': 'PixelSpace', 'layout_width': 1500, 'layout_height': 2000}, 'last_modified': '2025-06-09T10:03:30', 'filetype': 'PPM', 'languages': ['eng'], 'page_number': 129}}\n",
      "{'type': 'Table', 'element_id': '2eb1ff10-5f34-4cb7-8f5e-9d57b0a80a09', 'text': 'Nutrients Iron Calcium Vitamin C Fibre Food Groups Green leafy vegetables Cereals and Legumes Green leafy vegetables Nuts and Oilseeds Fish Milk and Milk Products Green leafy vegetables Other vegetables Fruits Cereals and Pulses Foods Amaranth, bengalgram leaves, cauliflower greens and radish leaves Ragi, bengalgram (whole), horsegram (whole), rajmah and soyabean Amaranth, cauliflower greens, curry leaves, knol-khol leaves Agathi Colocasia leaves Coconut dry, almond, mustard seeds and sunflower seeds Gingelly seeds Cumin seeds Bacha, katla, mrigal, pran and rohu Buffalo’s milk, cow’s milk, goat’s milk, curds (cow’s) Cheese, khoa, skimmed milk powder and whole- milk powder Agathi, cabbage, cori- ander leaves, drumstic leaves, knol-khol greens Giant chillies (capsicum) Green chillies Amla Guava Wheat, jowar, bajra, content for 100 g edible portion 18-40 mg 200-340 mg 500-800 mg 1130 mg 1540 mg 130-490 mg 1450 mg 1080 mg 320-650 mg 120-210 mg 790-1370 mg 120-220 mg 137 mg 117 mg 600 mg 212 mg', 'metadata': {'detection_class_prob': 0.8497226238250732, 'coordinates': {'points': ((108.99752044677734, 253.1166534423828), (108.99752044677734, 1617.450927734375), (1300.6905517578125, 1617.450927734375), (1300.6905517578125, 253.1166534423828)), 'system': 'PixelSpace', 'layout_width': 1500, 'layout_height': 2000}, 'last_modified': '2025-06-09T10:03:30', 'filetype': 'PPM', 'languages': ['eng'], 'page_number': 130}}\n",
      "{'type': 'Table', 'element_id': '29a1fba3-57d5-49b6-9dc2-5035cdd44c3e', 'text': 'Vitamin A Riboflavin Fats and edible oils Cereal grains and products Pulses and legumes Leafy vegetables Nuts and Oilseeds Condiments and spices Fruits Meat and poultry Milk and milk products Butter, ghee (cow milk) and hydrogenated oil (fortified) Bajra, barley, ragi, wheat germs and wheat bread (brown) Bengalgram, blackgram, greengram, lentil, red- gram and soyabean Amaranthus, carrot leaves, colacasia leaves, curry leaves, fenugreek leaves, gogu, mint, radish leaves and spinach Gingelly seeds, mustard seeds, niger seeds, sunflower seeds, almond and walnut Chillies dry, chillies green, coriander and cumin seeds Apricot dried and papaya Egg (hen) Sheep’s liver Skimmed milk powder and whole milk powder (cow’s milk) edible portion 700 mg 0.2 mg 0.2 mg 0.25 mg 0.3 mg 0.35 mg 0.23 mg 0.26 mg 1.7 mg 1.5 mg', 'metadata': {'detection_class_prob': 0.8628703355789185, 'coordinates': {'points': ((153.11109924316406, 281.0469055175781), (153.11109924316406, 1335.4405517578125), (1258.38037109375, 1335.4405517578125), (1258.38037109375, 281.0469055175781)), 'system': 'PixelSpace', 'layout_width': 1500, 'layout_height': 2000}, 'last_modified': '2025-06-09T10:03:30', 'filetype': 'PPM', 'languages': ['eng'], 'page_number': 131}}\n"
     ]
    }
   ],
   "source": [
    "def get_table(chunks):\n",
    "    tables = []\n",
    "    for chunk in chunks:\n",
    "        for el in chunk.metadata.orig_elements:\n",
    "            if 'Table' in str(type(el)):\n",
    "                print(el.to_dict())\n",
    "                tables.append(el)\n",
    "    return tables\n",
    "\n",
    "tables = get_table(chunks)"
   ]
  },
  {
   "cell_type": "code",
   "execution_count": 9,
   "id": "e1c3e5ad",
   "metadata": {},
   "outputs": [
    {
     "data": {
      "text/plain": [
       "170"
      ]
     },
     "execution_count": 9,
     "metadata": {},
     "output_type": "execute_result"
    }
   ],
   "source": [
    "len(chunks)"
   ]
  },
  {
   "cell_type": "markdown",
   "id": "c7c995a5",
   "metadata": {},
   "source": [
    "Extract images from the Chunks"
   ]
  },
  {
   "cell_type": "code",
   "execution_count": 10,
   "id": "4b4bbc4e",
   "metadata": {},
   "outputs": [],
   "source": [
    "## getting the images from the CompositeElement object\n",
    "\n",
    "def get_image_base64(chunks):\n",
    "    image_b64 = []\n",
    "    for chunk in chunks:\n",
    "        chunk_el = chunk.metadata.orig_elements\n",
    "        for el in chunk_el:\n",
    "            if 'Image' in str(type(el)):\n",
    "                image_b64.append(el.metadata.image_base64)\n",
    "    return image_b64\n",
    "\n",
    "images = get_image_base64(chunks)"
   ]
  },
  {
   "cell_type": "markdown",
   "id": "9a96ad13",
   "metadata": {},
   "source": [
    "Check the Image\n"
   ]
  },
  {
   "cell_type": "code",
   "execution_count": null,
   "id": "219c7d99",
   "metadata": {},
   "outputs": [
    {
     "data": {
      "image/jpeg": "[encoded data removed]",
      "text/plain": [
       "<IPython.core.display.Image object>"
      ]
     },
     "metadata": {},
     "output_type": "display_data"
    }
   ],
   "source": [
    "import base64\n",
    "from IPython.display import Image, display\n",
    "\n",
    "def display_base64_image(base64_code):\n",
    "    ## decode the base64 string to binary\n",
    "    image_data = base64.b64decode(base64_code)\n",
    "    # display the image\n",
    "    display(Image(data=image_data))\n",
    "\n",
    "display_base64_image(images[0])"
   ]
  },
  {
   "cell_type": "markdown",
   "id": "e649cdd3",
   "metadata": {},
   "source": [
    "Save the Text frpm the PDF"
   ]
  },
  {
   "cell_type": "code",
   "execution_count": 12,
   "id": "4c62e1f9",
   "metadata": {},
   "outputs": [],
   "source": [
    "def save_texts(chunks):\n",
    "    \"\"\"\n",
    "    Extracts texts from the list of chunks.\n",
    "    \"\"\"\n",
    "    texts = [chunk for chunk in chunks if 'CompositeElement' in str(type(chunk))]\n",
    "\n",
    "    return texts"
   ]
  },
  {
   "cell_type": "code",
   "execution_count": 13,
   "id": "0348c5b7",
   "metadata": {},
   "outputs": [],
   "source": [
    "texts = save_texts(chunks)"
   ]
  },
  {
   "cell_type": "code",
   "execution_count": 14,
   "id": "60530f21",
   "metadata": {},
   "outputs": [],
   "source": [
    "from langchain_openai import ChatOpenAI\n",
    "from langchain_core.prompts import ChatPromptTemplate\n",
    "from langchain_core.output_parsers import StrOutputParser\n",
    "\n",
    "\n"
   ]
  },
  {
   "cell_type": "code",
   "execution_count": 15,
   "id": "3150bcf2",
   "metadata": {},
   "outputs": [],
   "source": [
    "## Summarizing Text\n",
    "\n",
    "## Create a Groq model\n",
    "model = ChatOpenAI(temperature=0.5, model='gpt-4o-mini')\n",
    "\n",
    "## Create a prompt template for summarization\n",
    "prompt = '''\n",
    "You are an assistant tasked with summarizing tables and text.\n",
    "Give a concise summary of the table or text.\n",
    "\n",
    "Respond only with the summary, no additional comment.\n",
    "Do not start your message by saying \"Here is a summary\" or anything similar.\n",
    "just give the summary as it is.\n",
    "\n",
    "Table or text chunk: {element}\n",
    "'''\n",
    "\n",
    "prompt_template = ChatPromptTemplate.from_template(prompt)\n",
    "\n",
    "## chain the prompt with the Groq model and output parser\n",
    "chain = prompt_template | model | StrOutputParser()"
   ]
  },
  {
   "cell_type": "code",
   "execution_count": 16,
   "id": "3364785b",
   "metadata": {},
   "outputs": [],
   "source": [
    "## Summarize text\n",
    "text_summaries = chain.batch(texts,{\"max_concurrency\":3})"
   ]
  },
  {
   "cell_type": "code",
   "execution_count": 38,
   "id": "98b5e8d6",
   "metadata": {},
   "outputs": [],
   "source": [
    "table_contents = [str(table) for table in tables]\n",
    "\n",
    "# Then reuse the same chain to summarize tables\n",
    "table_summaries = chain.batch(table_contents, {\"max_concurrency\": 3})"
   ]
  },
  {
   "cell_type": "code",
   "execution_count": 24,
   "id": "15d73ed4",
   "metadata": {},
   "outputs": [],
   "source": [
    "from openai._exceptions import RateLimitError\n",
    "import time\n",
    "\n",
    "# 1. Prompt Template stays the same\n",
    "prompt_template_image = \"\"\"Describe the image in detail. Be specific about the architecture, graphs, plots such as bar plot\"\"\"\n",
    "\n",
    "# 2. Function to dynamically format messages per image\n",
    "def build_message(image_b64):\n",
    "    return [\n",
    "        (\"user\", [\n",
    "            {\"type\": \"text\", \"text\": prompt_template_image},\n",
    "            {\"type\": \"image_url\", \"image_url\": {\"url\": f\"data:image/jpeg;base64,{image_b64}\"}},\n",
    "        ])\n",
    "    ]\n",
    "\n",
    "# 3. Chain builder for single image message\n",
    "def build_chain(image_b64):\n",
    "    prompt_image = ChatPromptTemplate.from_messages(build_message(image_b64))\n",
    "    return prompt_image | model | StrOutputParser()\n",
    "\n",
    "# 4. Retry-enabled batch processor\n",
    "def process_images_with_retry(images, delay=2):\n",
    "    results = []\n",
    "    for idx, image in enumerate(images):\n",
    "        success = False\n",
    "        while not success:\n",
    "            try:\n",
    "                print(f\"🔍 Processing image {idx + 1}/{len(images)}...\")\n",
    "                chain = build_chain(image)\n",
    "                result = chain.invoke({})\n",
    "                results.append(result)\n",
    "                success = True\n",
    "            except RateLimitError:\n",
    "                print(\"⚠️ Rate limit hit. Waiting before retry...\")\n",
    "                time.sleep(delay)\n",
    "    return results"
   ]
  },
  {
   "cell_type": "code",
   "execution_count": 25,
   "id": "6f6fdf21",
   "metadata": {},
   "outputs": [
    {
     "name": "stdout",
     "output_type": "stream",
     "text": [
      "🔍 Processing image 1/44...\n",
      "🔍 Processing image 2/44...\n",
      "🔍 Processing image 3/44...\n",
      "🔍 Processing image 4/44...\n",
      "🔍 Processing image 5/44...\n",
      "🔍 Processing image 6/44...\n",
      "🔍 Processing image 7/44...\n",
      "🔍 Processing image 8/44...\n",
      "🔍 Processing image 9/44...\n",
      "🔍 Processing image 10/44...\n",
      "🔍 Processing image 11/44...\n",
      "🔍 Processing image 12/44...\n",
      "🔍 Processing image 13/44...\n",
      "🔍 Processing image 14/44...\n",
      "🔍 Processing image 15/44...\n",
      "🔍 Processing image 16/44...\n",
      "🔍 Processing image 17/44...\n",
      "🔍 Processing image 18/44...\n",
      "🔍 Processing image 19/44...\n",
      "🔍 Processing image 20/44...\n",
      "🔍 Processing image 21/44...\n",
      "🔍 Processing image 22/44...\n",
      "🔍 Processing image 23/44...\n",
      "🔍 Processing image 24/44...\n",
      "🔍 Processing image 25/44...\n",
      "🔍 Processing image 26/44...\n",
      "🔍 Processing image 27/44...\n",
      "🔍 Processing image 28/44...\n",
      "🔍 Processing image 29/44...\n",
      "🔍 Processing image 30/44...\n",
      "🔍 Processing image 31/44...\n",
      "🔍 Processing image 32/44...\n",
      "🔍 Processing image 33/44...\n",
      "🔍 Processing image 34/44...\n",
      "🔍 Processing image 35/44...\n",
      "🔍 Processing image 36/44...\n",
      "🔍 Processing image 37/44...\n",
      "🔍 Processing image 38/44...\n",
      "🔍 Processing image 39/44...\n",
      "🔍 Processing image 40/44...\n",
      "🔍 Processing image 41/44...\n",
      "🔍 Processing image 42/44...\n",
      "🔍 Processing image 43/44...\n",
      "🔍 Processing image 44/44...\n"
     ]
    }
   ],
   "source": [
    "image_summaries = process_images_with_retry(images)"
   ]
  },
  {
   "cell_type": "code",
   "execution_count": 40,
   "id": "ec5ef7a6",
   "metadata": {},
   "outputs": [
    {
     "data": {
      "text/plain": [
       "'The meal plan includes the following servings: \\n\\n- **Breakfast**: 100 ml milk, 15 g sugar, 2 cups of tea or 1 cup of coffee, 70 g cereals, and 20 g pulses.\\n- **Lunch**: 120 g cereals, 2 cups of rice, 2 pulkas, 20 g pulses, 1/2 cup dhal, 150 g vegetables (curry), 50 g vegetables (salad), 100 ml milk, 1/2 cup curd, and 50 g cereals.\\n- **Snack**: 50 ml milk, 1 cup tea, and 10 g sugar.\\n- **Dinner**: 120 g cereals, 2 cups of rice, 2 pulkas, 20 g pulses, 1/2 cup dhal, 150 g vegetables (curry), 50 ml milk (curd), and 100 g seasonal fruit.'"
      ]
     },
     "execution_count": 40,
     "metadata": {},
     "output_type": "execute_result"
    }
   ],
   "source": [
    "table_summaries[20]"
   ]
  },
  {
   "cell_type": "code",
   "execution_count": 26,
   "id": "74a5759d",
   "metadata": {},
   "outputs": [
    {
     "name": "stdout",
     "output_type": "stream",
     "text": [
      "The image features a circular emblem set against a green background. At the center of the emblem, there are various symbols representing biomedical research. These include a laboratory flask, a plant, and a stylized depiction of a cell or tissue, along with a droplet of liquid, which likely symbolizes scientific experimentation and discovery.\n",
      "\n",
      "Surrounding the central imagery, the emblem includes text in both Hindi and English. The Hindi text reads \"जैव चिकित्सा अनुसंधान के 100 वर्ष,\" which translates to \"100 Years of Biomedical Research.\" The English text reinforces this message with the same phrase. \n",
      "\n",
      "At the bottom of the emblem, there are dates marked \"1911 - 2011,\" indicating the centennial celebration of biomedical research. Additionally, there are two stars on either side of the circular border, which adds a decorative element to the design. \n",
      "\n",
      "The overall design is clean and professional, suitable for a formal celebration or recognition of significant achievements in the field of biomedical research.\n"
     ]
    }
   ],
   "source": [
    "print(image_summaries[0])"
   ]
  },
  {
   "cell_type": "code",
   "execution_count": 27,
   "id": "fc94fd2c",
   "metadata": {},
   "outputs": [],
   "source": [
    "import uuid\n",
    "import os\n",
    "from langchain_astradb import AstraDBVectorStore\n",
    "from langchain.storage import InMemoryStore\n",
    "from langchain_core.documents import Document\n",
    "from langchain.embeddings import OpenAIEmbeddings\n",
    "from langchain.retrievers.multi_vector import MultiVectorRetriever"
   ]
  },
  {
   "cell_type": "code",
   "execution_count": 31,
   "id": "c2e7bbe4",
   "metadata": {},
   "outputs": [],
   "source": [
    "token = os.getenv('ASTRA_DB_APPLICATION_TOKEN')\n",
    "namespace = os.getenv('ASTRA_DB_KEYSPACE')\n",
    "endpoint = os.getenv('ASTRA_DB_API_ENDPOINT')\n",
    "embedding = OpenAIEmbeddings(model=\"text-embedding-3-large\")"
   ]
  },
  {
   "cell_type": "code",
   "execution_count": 32,
   "id": "eecbd377",
   "metadata": {},
   "outputs": [
    {
     "data": {
      "text/plain": [
       "'https://815caf9c-e985-4283-b634-73bba5ecbb66-us-east-2.apps.astra.datastax.com'"
      ]
     },
     "execution_count": 32,
     "metadata": {},
     "output_type": "execute_result"
    }
   ],
   "source": [
    "endpoint"
   ]
  },
  {
   "cell_type": "code",
   "execution_count": null,
   "id": "7454d66c",
   "metadata": {},
   "outputs": [],
   "source": [
    "vector_store = AstraDBVectorStore(\n",
    "    embedding=embedding,\n",
    "    collection_name=\"RAG\",\n",
    "    api_endpoint=endpoint,\n",
    "    token=token,\n",
    "    namespace=namespace,\n",
    ")\n",
    "\n",
    "## The storage layer for the parent documents\n",
    "store = InMemoryStore()\n",
    "id_key = \"doc_id\"\n",
    "\n",
    "## The retriever (empty to start)\n",
    "retriever = MultiVectorRetriever(\n",
    "    vectorstore=vector_store,\n",
    "    docstore=store,\n",
    "    id_key=id_key,\n",
    ")"
   ]
  },
  {
   "cell_type": "code",
   "execution_count": null,
   "id": "80af3aa7",
   "metadata": {},
   "outputs": [],
   "source": [
    "def loading_summaries_to_vector_store(retriever, chunks, chunk_summary):\n",
    "    \"\"\"\n",
    "        Generate ids for each chunk, create langchain document object for each summry chunk.\n",
    "        Indexing the summary in vector store and document in docsotre.\n",
    "    \"\"\"\n",
    "    ## generate unique id for each chunk\n",
    "    doc_ids = [str(uuid.uuid4()) for _ in texts]\n",
    "    ## Creating Langchain Document objects for each text_summary chunk\n",
    "    summary_texts = [Document(page_content=summary,metadata={id_key:doc_ids[i]}) for i,summary in enumerate(chunk_summary)]\n",
    "\n",
    "    ## indexing the documents in vector store and document store\n",
    "    retriever.vectorstore.add_documents(summary_texts)\n",
    "    retriever.docstore.mset(list(zip(doc_ids,chunks)))"
   ]
  },
  {
   "cell_type": "code",
   "execution_count": null,
   "id": "3d5b6269",
   "metadata": {},
   "outputs": [
    {
     "ename": "KeyboardInterrupt",
     "evalue": "",
     "output_type": "error",
     "traceback": [
      "\u001b[31m---------------------------------------------------------------------------\u001b[39m",
      "\u001b[31mKeyboardInterrupt\u001b[39m                         Traceback (most recent call last)",
      "\u001b[36mCell\u001b[39m\u001b[36m \u001b[39m\u001b[32mIn[41]\u001b[39m\u001b[32m, line 2\u001b[39m\n\u001b[32m      1\u001b[39m \u001b[38;5;66;03m## adding text summaries to vector store and document store\u001b[39;00m\n\u001b[32m----> \u001b[39m\u001b[32m2\u001b[39m \u001b[43mloading_summaries_to_vector_store\u001b[49m\u001b[43m(\u001b[49m\u001b[43mretriever\u001b[49m\u001b[43m,\u001b[49m\u001b[43mtexts\u001b[49m\u001b[43m,\u001b[49m\u001b[43mtext_summaries\u001b[49m\u001b[43m)\u001b[49m\n\u001b[32m      3\u001b[39m \u001b[38;5;66;03m## adding image summaries to vector store and document store\u001b[39;00m\n\u001b[32m      4\u001b[39m loading_summaries_to_vector_store(retriever,images,image_summaries)\n",
      "\u001b[36mCell\u001b[39m\u001b[36m \u001b[39m\u001b[32mIn[34]\u001b[39m\u001b[32m, line 12\u001b[39m, in \u001b[36mloading_summaries_to_vector_store\u001b[39m\u001b[34m(retriever, chunks, chunk_summary)\u001b[39m\n\u001b[32m      9\u001b[39m summary_texts = [Document(page_content=summary,metadata={id_key:doc_ids[i]}) \u001b[38;5;28;01mfor\u001b[39;00m i,summary \u001b[38;5;129;01min\u001b[39;00m \u001b[38;5;28menumerate\u001b[39m(chunk_summary)]\n\u001b[32m     11\u001b[39m \u001b[38;5;66;03m## indexing the documents in vector store and document store\u001b[39;00m\n\u001b[32m---> \u001b[39m\u001b[32m12\u001b[39m \u001b[43mretriever\u001b[49m\u001b[43m.\u001b[49m\u001b[43mvectorstore\u001b[49m\u001b[43m.\u001b[49m\u001b[43madd_documents\u001b[49m\u001b[43m(\u001b[49m\u001b[43msummary_texts\u001b[49m\u001b[43m)\u001b[49m\n\u001b[32m     13\u001b[39m retriever.docstore.mset(\u001b[38;5;28mlist\u001b[39m(\u001b[38;5;28mzip\u001b[39m(doc_ids,chunks)))\n",
      "\u001b[36mFile \u001b[39m\u001b[32m/mnt/c/workspaces/langchain_pydantic/lang/lib/python3.12/site-packages/langchain_core/vectorstores/base.py:288\u001b[39m, in \u001b[36mVectorStore.add_documents\u001b[39m\u001b[34m(self, documents, **kwargs)\u001b[39m\n\u001b[32m    286\u001b[39m     texts = [doc.page_content \u001b[38;5;28;01mfor\u001b[39;00m doc \u001b[38;5;129;01min\u001b[39;00m documents]\n\u001b[32m    287\u001b[39m     metadatas = [doc.metadata \u001b[38;5;28;01mfor\u001b[39;00m doc \u001b[38;5;129;01min\u001b[39;00m documents]\n\u001b[32m--> \u001b[39m\u001b[32m288\u001b[39m     \u001b[38;5;28;01mreturn\u001b[39;00m \u001b[38;5;28;43mself\u001b[39;49m\u001b[43m.\u001b[49m\u001b[43madd_texts\u001b[49m\u001b[43m(\u001b[49m\u001b[43mtexts\u001b[49m\u001b[43m,\u001b[49m\u001b[43m \u001b[49m\u001b[43mmetadatas\u001b[49m\u001b[43m,\u001b[49m\u001b[43m \u001b[49m\u001b[43m*\u001b[49m\u001b[43m*\u001b[49m\u001b[43mkwargs\u001b[49m\u001b[43m)\u001b[49m\n\u001b[32m    289\u001b[39m msg = (\n\u001b[32m    290\u001b[39m     \u001b[33mf\u001b[39m\u001b[33m\"\u001b[39m\u001b[33m`add_documents` and `add_texts` has not been implemented \u001b[39m\u001b[33m\"\u001b[39m\n\u001b[32m    291\u001b[39m     \u001b[33mf\u001b[39m\u001b[33m\"\u001b[39m\u001b[33mfor \u001b[39m\u001b[38;5;132;01m{\u001b[39;00m\u001b[38;5;28mself\u001b[39m.\u001b[34m__class__\u001b[39m.\u001b[34m__name__\u001b[39m\u001b[38;5;132;01m}\u001b[39;00m\u001b[33m \u001b[39m\u001b[33m\"\u001b[39m\n\u001b[32m    292\u001b[39m )\n\u001b[32m    293\u001b[39m \u001b[38;5;28;01mraise\u001b[39;00m \u001b[38;5;167;01mNotImplementedError\u001b[39;00m(msg)\n",
      "\u001b[36mFile \u001b[39m\u001b[32m/mnt/c/workspaces/langchain_pydantic/lang/lib/python3.12/site-packages/langchain_astradb/vectorstores.py:1446\u001b[39m, in \u001b[36mAstraDBVectorStore.add_texts\u001b[39m\u001b[34m(self, texts, metadatas, ids, batch_size, batch_concurrency, overwrite_concurrency, **kwargs)\u001b[39m\n\u001b[32m   1444\u001b[39m     embedding_vectors = [\u001b[38;5;28;01mNone\u001b[39;00m \u001b[38;5;28;01mfor\u001b[39;00m _ \u001b[38;5;129;01min\u001b[39;00m \u001b[38;5;28mlist\u001b[39m(texts)]\n\u001b[32m   1445\u001b[39m \u001b[38;5;28;01melse\u001b[39;00m:\n\u001b[32m-> \u001b[39m\u001b[32m1446\u001b[39m     embedding_vectors = \u001b[38;5;28;43mself\u001b[39;49m\u001b[43m.\u001b[49m\u001b[43m_get_safe_embedding\u001b[49m\u001b[43m(\u001b[49m\u001b[43m)\u001b[49m\u001b[43m.\u001b[49m\u001b[43membed_documents\u001b[49m\u001b[43m(\u001b[49m\u001b[38;5;28;43mlist\u001b[39;49m\u001b[43m(\u001b[49m\u001b[43mtexts\u001b[49m\u001b[43m)\u001b[49m\u001b[43m)\u001b[49m\n\u001b[32m   1447\u001b[39m documents_to_insert = \u001b[38;5;28mself\u001b[39m._get_documents_to_insert(\n\u001b[32m   1448\u001b[39m     texts, embedding_vectors, metadatas, ids\n\u001b[32m   1449\u001b[39m )\n\u001b[32m   1451\u001b[39m \u001b[38;5;66;03m# perform an AstraPy insert_many, catching exceptions for overwriting docs\u001b[39;00m\n",
      "\u001b[36mFile \u001b[39m\u001b[32m/mnt/c/workspaces/langchain_pydantic/lang/lib/python3.12/site-packages/langchain_community/embeddings/openai.py:671\u001b[39m, in \u001b[36mOpenAIEmbeddings.embed_documents\u001b[39m\u001b[34m(self, texts, chunk_size)\u001b[39m\n\u001b[32m    668\u001b[39m \u001b[38;5;66;03m# NOTE: to keep things simple, we assume the list may contain texts longer\u001b[39;00m\n\u001b[32m    669\u001b[39m \u001b[38;5;66;03m#       than the maximum context and use length-safe embedding function.\u001b[39;00m\n\u001b[32m    670\u001b[39m engine = cast(\u001b[38;5;28mstr\u001b[39m, \u001b[38;5;28mself\u001b[39m.deployment)\n\u001b[32m--> \u001b[39m\u001b[32m671\u001b[39m \u001b[38;5;28;01mreturn\u001b[39;00m \u001b[38;5;28;43mself\u001b[39;49m\u001b[43m.\u001b[49m\u001b[43m_get_len_safe_embeddings\u001b[49m\u001b[43m(\u001b[49m\n\u001b[32m    672\u001b[39m \u001b[43m    \u001b[49m\u001b[43mtexts\u001b[49m\u001b[43m,\u001b[49m\u001b[43m \u001b[49m\u001b[43mengine\u001b[49m\u001b[43m=\u001b[49m\u001b[43mengine\u001b[49m\u001b[43m,\u001b[49m\u001b[43m \u001b[49m\u001b[43mchunk_size\u001b[49m\u001b[43m=\u001b[49m\u001b[43mchunk_size\u001b[49m\n\u001b[32m    673\u001b[39m \u001b[43m\u001b[49m\u001b[43m)\u001b[49m\n",
      "\u001b[36mFile \u001b[39m\u001b[32m/mnt/c/workspaces/langchain_pydantic/lang/lib/python3.12/site-packages/langchain_community/embeddings/openai.py:497\u001b[39m, in \u001b[36mOpenAIEmbeddings._get_len_safe_embeddings\u001b[39m\u001b[34m(self, texts, engine, chunk_size)\u001b[39m\n\u001b[32m    495\u001b[39m batched_embeddings: List[List[\u001b[38;5;28mfloat\u001b[39m]] = []\n\u001b[32m    496\u001b[39m \u001b[38;5;28;01mfor\u001b[39;00m i \u001b[38;5;129;01min\u001b[39;00m _iter:\n\u001b[32m--> \u001b[39m\u001b[32m497\u001b[39m     response = \u001b[43membed_with_retry\u001b[49m\u001b[43m(\u001b[49m\n\u001b[32m    498\u001b[39m \u001b[43m        \u001b[49m\u001b[38;5;28;43mself\u001b[39;49m\u001b[43m,\u001b[49m\n\u001b[32m    499\u001b[39m \u001b[43m        \u001b[49m\u001b[38;5;28;43minput\u001b[39;49m\u001b[43m=\u001b[49m\u001b[43mtokens\u001b[49m\u001b[43m[\u001b[49m\u001b[43mi\u001b[49m\u001b[43m \u001b[49m\u001b[43m:\u001b[49m\u001b[43m \u001b[49m\u001b[43mi\u001b[49m\u001b[43m \u001b[49m\u001b[43m+\u001b[49m\u001b[43m \u001b[49m\u001b[43m_chunk_size\u001b[49m\u001b[43m]\u001b[49m\u001b[43m,\u001b[49m\n\u001b[32m    500\u001b[39m \u001b[43m        \u001b[49m\u001b[43m*\u001b[49m\u001b[43m*\u001b[49m\u001b[38;5;28;43mself\u001b[39;49m\u001b[43m.\u001b[49m\u001b[43m_invocation_params\u001b[49m\u001b[43m,\u001b[49m\n\u001b[32m    501\u001b[39m \u001b[43m    \u001b[49m\u001b[43m)\u001b[49m\n\u001b[32m    502\u001b[39m     \u001b[38;5;28;01mif\u001b[39;00m \u001b[38;5;129;01mnot\u001b[39;00m \u001b[38;5;28misinstance\u001b[39m(response, \u001b[38;5;28mdict\u001b[39m):\n\u001b[32m    503\u001b[39m         response = response.dict()\n",
      "\u001b[36mFile \u001b[39m\u001b[32m/mnt/c/workspaces/langchain_pydantic/lang/lib/python3.12/site-packages/langchain_community/embeddings/openai.py:120\u001b[39m, in \u001b[36membed_with_retry\u001b[39m\u001b[34m(embeddings, **kwargs)\u001b[39m\n\u001b[32m    118\u001b[39m \u001b[38;5;250m\u001b[39m\u001b[33;03m\"\"\"Use tenacity to retry the embedding call.\"\"\"\u001b[39;00m\n\u001b[32m    119\u001b[39m \u001b[38;5;28;01mif\u001b[39;00m is_openai_v1():\n\u001b[32m--> \u001b[39m\u001b[32m120\u001b[39m     \u001b[38;5;28;01mreturn\u001b[39;00m \u001b[43membeddings\u001b[49m\u001b[43m.\u001b[49m\u001b[43mclient\u001b[49m\u001b[43m.\u001b[49m\u001b[43mcreate\u001b[49m\u001b[43m(\u001b[49m\u001b[43m*\u001b[49m\u001b[43m*\u001b[49m\u001b[43mkwargs\u001b[49m\u001b[43m)\u001b[49m\n\u001b[32m    121\u001b[39m retry_decorator = _create_retry_decorator(embeddings)\n\u001b[32m    123\u001b[39m \u001b[38;5;129m@retry_decorator\u001b[39m\n\u001b[32m    124\u001b[39m \u001b[38;5;28;01mdef\u001b[39;00m\u001b[38;5;250m \u001b[39m\u001b[34m_embed_with_retry\u001b[39m(**kwargs: Any) -> Any:\n",
      "\u001b[36mFile \u001b[39m\u001b[32m/mnt/c/workspaces/langchain_pydantic/lang/lib/python3.12/site-packages/openai/resources/embeddings.py:129\u001b[39m, in \u001b[36mEmbeddings.create\u001b[39m\u001b[34m(self, input, model, dimensions, encoding_format, user, extra_headers, extra_query, extra_body, timeout)\u001b[39m\n\u001b[32m    123\u001b[39m             embedding.embedding = np.frombuffer(  \u001b[38;5;66;03m# type: ignore[no-untyped-call]\u001b[39;00m\n\u001b[32m    124\u001b[39m                 base64.b64decode(data), dtype=\u001b[33m\"\u001b[39m\u001b[33mfloat32\u001b[39m\u001b[33m\"\u001b[39m\n\u001b[32m    125\u001b[39m             ).tolist()\n\u001b[32m    127\u001b[39m     \u001b[38;5;28;01mreturn\u001b[39;00m obj\n\u001b[32m--> \u001b[39m\u001b[32m129\u001b[39m \u001b[38;5;28;01mreturn\u001b[39;00m \u001b[38;5;28;43mself\u001b[39;49m\u001b[43m.\u001b[49m\u001b[43m_post\u001b[49m\u001b[43m(\u001b[49m\n\u001b[32m    130\u001b[39m \u001b[43m    \u001b[49m\u001b[33;43m\"\u001b[39;49m\u001b[33;43m/embeddings\u001b[39;49m\u001b[33;43m\"\u001b[39;49m\u001b[43m,\u001b[49m\n\u001b[32m    131\u001b[39m \u001b[43m    \u001b[49m\u001b[43mbody\u001b[49m\u001b[43m=\u001b[49m\u001b[43mmaybe_transform\u001b[49m\u001b[43m(\u001b[49m\u001b[43mparams\u001b[49m\u001b[43m,\u001b[49m\u001b[43m \u001b[49m\u001b[43membedding_create_params\u001b[49m\u001b[43m.\u001b[49m\u001b[43mEmbeddingCreateParams\u001b[49m\u001b[43m)\u001b[49m\u001b[43m,\u001b[49m\n\u001b[32m    132\u001b[39m \u001b[43m    \u001b[49m\u001b[43moptions\u001b[49m\u001b[43m=\u001b[49m\u001b[43mmake_request_options\u001b[49m\u001b[43m(\u001b[49m\n\u001b[32m    133\u001b[39m \u001b[43m        \u001b[49m\u001b[43mextra_headers\u001b[49m\u001b[43m=\u001b[49m\u001b[43mextra_headers\u001b[49m\u001b[43m,\u001b[49m\n\u001b[32m    134\u001b[39m \u001b[43m        \u001b[49m\u001b[43mextra_query\u001b[49m\u001b[43m=\u001b[49m\u001b[43mextra_query\u001b[49m\u001b[43m,\u001b[49m\n\u001b[32m    135\u001b[39m \u001b[43m        \u001b[49m\u001b[43mextra_body\u001b[49m\u001b[43m=\u001b[49m\u001b[43mextra_body\u001b[49m\u001b[43m,\u001b[49m\n\u001b[32m    136\u001b[39m \u001b[43m        \u001b[49m\u001b[43mtimeout\u001b[49m\u001b[43m=\u001b[49m\u001b[43mtimeout\u001b[49m\u001b[43m,\u001b[49m\n\u001b[32m    137\u001b[39m \u001b[43m        \u001b[49m\u001b[43mpost_parser\u001b[49m\u001b[43m=\u001b[49m\u001b[43mparser\u001b[49m\u001b[43m,\u001b[49m\n\u001b[32m    138\u001b[39m \u001b[43m    \u001b[49m\u001b[43m)\u001b[49m\u001b[43m,\u001b[49m\n\u001b[32m    139\u001b[39m \u001b[43m    \u001b[49m\u001b[43mcast_to\u001b[49m\u001b[43m=\u001b[49m\u001b[43mCreateEmbeddingResponse\u001b[49m\u001b[43m,\u001b[49m\n\u001b[32m    140\u001b[39m \u001b[43m\u001b[49m\u001b[43m)\u001b[49m\n",
      "\u001b[36mFile \u001b[39m\u001b[32m/mnt/c/workspaces/langchain_pydantic/lang/lib/python3.12/site-packages/openai/_base_client.py:1239\u001b[39m, in \u001b[36mSyncAPIClient.post\u001b[39m\u001b[34m(self, path, cast_to, body, options, files, stream, stream_cls)\u001b[39m\n\u001b[32m   1225\u001b[39m \u001b[38;5;28;01mdef\u001b[39;00m\u001b[38;5;250m \u001b[39m\u001b[34mpost\u001b[39m(\n\u001b[32m   1226\u001b[39m     \u001b[38;5;28mself\u001b[39m,\n\u001b[32m   1227\u001b[39m     path: \u001b[38;5;28mstr\u001b[39m,\n\u001b[32m   (...)\u001b[39m\u001b[32m   1234\u001b[39m     stream_cls: \u001b[38;5;28mtype\u001b[39m[_StreamT] | \u001b[38;5;28;01mNone\u001b[39;00m = \u001b[38;5;28;01mNone\u001b[39;00m,\n\u001b[32m   1235\u001b[39m ) -> ResponseT | _StreamT:\n\u001b[32m   1236\u001b[39m     opts = FinalRequestOptions.construct(\n\u001b[32m   1237\u001b[39m         method=\u001b[33m\"\u001b[39m\u001b[33mpost\u001b[39m\u001b[33m\"\u001b[39m, url=path, json_data=body, files=to_httpx_files(files), **options\n\u001b[32m   1238\u001b[39m     )\n\u001b[32m-> \u001b[39m\u001b[32m1239\u001b[39m     \u001b[38;5;28;01mreturn\u001b[39;00m cast(ResponseT, \u001b[38;5;28;43mself\u001b[39;49m\u001b[43m.\u001b[49m\u001b[43mrequest\u001b[49m\u001b[43m(\u001b[49m\u001b[43mcast_to\u001b[49m\u001b[43m,\u001b[49m\u001b[43m \u001b[49m\u001b[43mopts\u001b[49m\u001b[43m,\u001b[49m\u001b[43m \u001b[49m\u001b[43mstream\u001b[49m\u001b[43m=\u001b[49m\u001b[43mstream\u001b[49m\u001b[43m,\u001b[49m\u001b[43m \u001b[49m\u001b[43mstream_cls\u001b[49m\u001b[43m=\u001b[49m\u001b[43mstream_cls\u001b[49m\u001b[43m)\u001b[49m)\n",
      "\u001b[36mFile \u001b[39m\u001b[32m/mnt/c/workspaces/langchain_pydantic/lang/lib/python3.12/site-packages/openai/_base_client.py:969\u001b[39m, in \u001b[36mSyncAPIClient.request\u001b[39m\u001b[34m(self, cast_to, options, stream, stream_cls)\u001b[39m\n\u001b[32m    967\u001b[39m response = \u001b[38;5;28;01mNone\u001b[39;00m\n\u001b[32m    968\u001b[39m \u001b[38;5;28;01mtry\u001b[39;00m:\n\u001b[32m--> \u001b[39m\u001b[32m969\u001b[39m     response = \u001b[38;5;28;43mself\u001b[39;49m\u001b[43m.\u001b[49m\u001b[43m_client\u001b[49m\u001b[43m.\u001b[49m\u001b[43msend\u001b[49m\u001b[43m(\u001b[49m\n\u001b[32m    970\u001b[39m \u001b[43m        \u001b[49m\u001b[43mrequest\u001b[49m\u001b[43m,\u001b[49m\n\u001b[32m    971\u001b[39m \u001b[43m        \u001b[49m\u001b[43mstream\u001b[49m\u001b[43m=\u001b[49m\u001b[43mstream\u001b[49m\u001b[43m \u001b[49m\u001b[38;5;129;43;01mor\u001b[39;49;00m\u001b[43m \u001b[49m\u001b[38;5;28;43mself\u001b[39;49m\u001b[43m.\u001b[49m\u001b[43m_should_stream_response_body\u001b[49m\u001b[43m(\u001b[49m\u001b[43mrequest\u001b[49m\u001b[43m=\u001b[49m\u001b[43mrequest\u001b[49m\u001b[43m)\u001b[49m\u001b[43m,\u001b[49m\n\u001b[32m    972\u001b[39m \u001b[43m        \u001b[49m\u001b[43m*\u001b[49m\u001b[43m*\u001b[49m\u001b[43mkwargs\u001b[49m\u001b[43m,\u001b[49m\n\u001b[32m    973\u001b[39m \u001b[43m    \u001b[49m\u001b[43m)\u001b[49m\n\u001b[32m    974\u001b[39m \u001b[38;5;28;01mexcept\u001b[39;00m httpx.TimeoutException \u001b[38;5;28;01mas\u001b[39;00m err:\n\u001b[32m    975\u001b[39m     log.debug(\u001b[33m\"\u001b[39m\u001b[33mEncountered httpx.TimeoutException\u001b[39m\u001b[33m\"\u001b[39m, exc_info=\u001b[38;5;28;01mTrue\u001b[39;00m)\n",
      "\u001b[36mFile \u001b[39m\u001b[32m/mnt/c/workspaces/langchain_pydantic/lang/lib/python3.12/site-packages/httpx/_client.py:928\u001b[39m, in \u001b[36mClient.send\u001b[39m\u001b[34m(self, request, stream, auth, follow_redirects)\u001b[39m\n\u001b[32m    926\u001b[39m \u001b[38;5;28;01mexcept\u001b[39;00m \u001b[38;5;167;01mBaseException\u001b[39;00m \u001b[38;5;28;01mas\u001b[39;00m exc:\n\u001b[32m    927\u001b[39m     response.close()\n\u001b[32m--> \u001b[39m\u001b[32m928\u001b[39m     \u001b[38;5;28;01mraise\u001b[39;00m exc\n",
      "\u001b[36mFile \u001b[39m\u001b[32m/mnt/c/workspaces/langchain_pydantic/lang/lib/python3.12/site-packages/httpx/_client.py:922\u001b[39m, in \u001b[36mClient.send\u001b[39m\u001b[34m(self, request, stream, auth, follow_redirects)\u001b[39m\n\u001b[32m    920\u001b[39m \u001b[38;5;28;01mtry\u001b[39;00m:\n\u001b[32m    921\u001b[39m     \u001b[38;5;28;01mif\u001b[39;00m \u001b[38;5;129;01mnot\u001b[39;00m stream:\n\u001b[32m--> \u001b[39m\u001b[32m922\u001b[39m         \u001b[43mresponse\u001b[49m\u001b[43m.\u001b[49m\u001b[43mread\u001b[49m\u001b[43m(\u001b[49m\u001b[43m)\u001b[49m\n\u001b[32m    924\u001b[39m     \u001b[38;5;28;01mreturn\u001b[39;00m response\n\u001b[32m    926\u001b[39m \u001b[38;5;28;01mexcept\u001b[39;00m \u001b[38;5;167;01mBaseException\u001b[39;00m \u001b[38;5;28;01mas\u001b[39;00m exc:\n",
      "\u001b[36mFile \u001b[39m\u001b[32m/mnt/c/workspaces/langchain_pydantic/lang/lib/python3.12/site-packages/httpx/_models.py:881\u001b[39m, in \u001b[36mResponse.read\u001b[39m\u001b[34m(self)\u001b[39m\n\u001b[32m    877\u001b[39m \u001b[38;5;250m\u001b[39m\u001b[33;03m\"\"\"\u001b[39;00m\n\u001b[32m    878\u001b[39m \u001b[33;03mRead and return the response content.\u001b[39;00m\n\u001b[32m    879\u001b[39m \u001b[33;03m\"\"\"\u001b[39;00m\n\u001b[32m    880\u001b[39m \u001b[38;5;28;01mif\u001b[39;00m \u001b[38;5;129;01mnot\u001b[39;00m \u001b[38;5;28mhasattr\u001b[39m(\u001b[38;5;28mself\u001b[39m, \u001b[33m\"\u001b[39m\u001b[33m_content\u001b[39m\u001b[33m\"\u001b[39m):\n\u001b[32m--> \u001b[39m\u001b[32m881\u001b[39m     \u001b[38;5;28mself\u001b[39m._content = \u001b[33;43mb\u001b[39;49m\u001b[33;43m\"\u001b[39;49m\u001b[33;43m\"\u001b[39;49m\u001b[43m.\u001b[49m\u001b[43mjoin\u001b[49m\u001b[43m(\u001b[49m\u001b[38;5;28;43mself\u001b[39;49m\u001b[43m.\u001b[49m\u001b[43miter_bytes\u001b[49m\u001b[43m(\u001b[49m\u001b[43m)\u001b[49m\u001b[43m)\u001b[49m\n\u001b[32m    882\u001b[39m \u001b[38;5;28;01mreturn\u001b[39;00m \u001b[38;5;28mself\u001b[39m._content\n",
      "\u001b[36mFile \u001b[39m\u001b[32m/mnt/c/workspaces/langchain_pydantic/lang/lib/python3.12/site-packages/httpx/_models.py:897\u001b[39m, in \u001b[36mResponse.iter_bytes\u001b[39m\u001b[34m(self, chunk_size)\u001b[39m\n\u001b[32m    895\u001b[39m chunker = ByteChunker(chunk_size=chunk_size)\n\u001b[32m    896\u001b[39m \u001b[38;5;28;01mwith\u001b[39;00m request_context(request=\u001b[38;5;28mself\u001b[39m._request):\n\u001b[32m--> \u001b[39m\u001b[32m897\u001b[39m \u001b[43m    \u001b[49m\u001b[38;5;28;43;01mfor\u001b[39;49;00m\u001b[43m \u001b[49m\u001b[43mraw_bytes\u001b[49m\u001b[43m \u001b[49m\u001b[38;5;129;43;01min\u001b[39;49;00m\u001b[43m \u001b[49m\u001b[38;5;28;43mself\u001b[39;49m\u001b[43m.\u001b[49m\u001b[43miter_raw\u001b[49m\u001b[43m(\u001b[49m\u001b[43m)\u001b[49m\u001b[43m:\u001b[49m\n\u001b[32m    898\u001b[39m \u001b[43m        \u001b[49m\u001b[43mdecoded\u001b[49m\u001b[43m \u001b[49m\u001b[43m=\u001b[49m\u001b[43m \u001b[49m\u001b[43mdecoder\u001b[49m\u001b[43m.\u001b[49m\u001b[43mdecode\u001b[49m\u001b[43m(\u001b[49m\u001b[43mraw_bytes\u001b[49m\u001b[43m)\u001b[49m\n\u001b[32m    899\u001b[39m \u001b[43m        \u001b[49m\u001b[38;5;28;43;01mfor\u001b[39;49;00m\u001b[43m \u001b[49m\u001b[43mchunk\u001b[49m\u001b[43m \u001b[49m\u001b[38;5;129;43;01min\u001b[39;49;00m\u001b[43m \u001b[49m\u001b[43mchunker\u001b[49m\u001b[43m.\u001b[49m\u001b[43mdecode\u001b[49m\u001b[43m(\u001b[49m\u001b[43mdecoded\u001b[49m\u001b[43m)\u001b[49m\u001b[43m:\u001b[49m\n",
      "\u001b[36mFile \u001b[39m\u001b[32m/mnt/c/workspaces/langchain_pydantic/lang/lib/python3.12/site-packages/httpx/_models.py:951\u001b[39m, in \u001b[36mResponse.iter_raw\u001b[39m\u001b[34m(self, chunk_size)\u001b[39m\n\u001b[32m    948\u001b[39m chunker = ByteChunker(chunk_size=chunk_size)\n\u001b[32m    950\u001b[39m \u001b[38;5;28;01mwith\u001b[39;00m request_context(request=\u001b[38;5;28mself\u001b[39m._request):\n\u001b[32m--> \u001b[39m\u001b[32m951\u001b[39m \u001b[43m    \u001b[49m\u001b[38;5;28;43;01mfor\u001b[39;49;00m\u001b[43m \u001b[49m\u001b[43mraw_stream_bytes\u001b[49m\u001b[43m \u001b[49m\u001b[38;5;129;43;01min\u001b[39;49;00m\u001b[43m \u001b[49m\u001b[38;5;28;43mself\u001b[39;49m\u001b[43m.\u001b[49m\u001b[43mstream\u001b[49m\u001b[43m:\u001b[49m\n\u001b[32m    952\u001b[39m \u001b[43m        \u001b[49m\u001b[38;5;28;43mself\u001b[39;49m\u001b[43m.\u001b[49m\u001b[43m_num_bytes_downloaded\u001b[49m\u001b[43m \u001b[49m\u001b[43m+\u001b[49m\u001b[43m=\u001b[49m\u001b[43m \u001b[49m\u001b[38;5;28;43mlen\u001b[39;49m\u001b[43m(\u001b[49m\u001b[43mraw_stream_bytes\u001b[49m\u001b[43m)\u001b[49m\n\u001b[32m    953\u001b[39m \u001b[43m        \u001b[49m\u001b[38;5;28;43;01mfor\u001b[39;49;00m\u001b[43m \u001b[49m\u001b[43mchunk\u001b[49m\u001b[43m \u001b[49m\u001b[38;5;129;43;01min\u001b[39;49;00m\u001b[43m \u001b[49m\u001b[43mchunker\u001b[49m\u001b[43m.\u001b[49m\u001b[43mdecode\u001b[49m\u001b[43m(\u001b[49m\u001b[43mraw_stream_bytes\u001b[49m\u001b[43m)\u001b[49m\u001b[43m:\u001b[49m\n",
      "\u001b[36mFile \u001b[39m\u001b[32m/mnt/c/workspaces/langchain_pydantic/lang/lib/python3.12/site-packages/httpx/_client.py:153\u001b[39m, in \u001b[36mBoundSyncStream.__iter__\u001b[39m\u001b[34m(self)\u001b[39m\n\u001b[32m    152\u001b[39m \u001b[38;5;28;01mdef\u001b[39;00m\u001b[38;5;250m \u001b[39m\u001b[34m__iter__\u001b[39m(\u001b[38;5;28mself\u001b[39m) -> typing.Iterator[\u001b[38;5;28mbytes\u001b[39m]:\n\u001b[32m--> \u001b[39m\u001b[32m153\u001b[39m \u001b[43m    \u001b[49m\u001b[38;5;28;43;01mfor\u001b[39;49;00m\u001b[43m \u001b[49m\u001b[43mchunk\u001b[49m\u001b[43m \u001b[49m\u001b[38;5;129;43;01min\u001b[39;49;00m\u001b[43m \u001b[49m\u001b[38;5;28;43mself\u001b[39;49m\u001b[43m.\u001b[49m\u001b[43m_stream\u001b[49m\u001b[43m:\u001b[49m\n\u001b[32m    154\u001b[39m \u001b[43m        \u001b[49m\u001b[38;5;28;43;01myield\u001b[39;49;00m\u001b[43m \u001b[49m\u001b[43mchunk\u001b[49m\n",
      "\u001b[36mFile \u001b[39m\u001b[32m/mnt/c/workspaces/langchain_pydantic/lang/lib/python3.12/site-packages/httpx/_transports/default.py:127\u001b[39m, in \u001b[36mResponseStream.__iter__\u001b[39m\u001b[34m(self)\u001b[39m\n\u001b[32m    125\u001b[39m \u001b[38;5;28;01mdef\u001b[39;00m\u001b[38;5;250m \u001b[39m\u001b[34m__iter__\u001b[39m(\u001b[38;5;28mself\u001b[39m) -> typing.Iterator[\u001b[38;5;28mbytes\u001b[39m]:\n\u001b[32m    126\u001b[39m     \u001b[38;5;28;01mwith\u001b[39;00m map_httpcore_exceptions():\n\u001b[32m--> \u001b[39m\u001b[32m127\u001b[39m \u001b[43m        \u001b[49m\u001b[38;5;28;43;01mfor\u001b[39;49;00m\u001b[43m \u001b[49m\u001b[43mpart\u001b[49m\u001b[43m \u001b[49m\u001b[38;5;129;43;01min\u001b[39;49;00m\u001b[43m \u001b[49m\u001b[38;5;28;43mself\u001b[39;49m\u001b[43m.\u001b[49m\u001b[43m_httpcore_stream\u001b[49m\u001b[43m:\u001b[49m\n\u001b[32m    128\u001b[39m \u001b[43m            \u001b[49m\u001b[38;5;28;43;01myield\u001b[39;49;00m\u001b[43m \u001b[49m\u001b[43mpart\u001b[49m\n",
      "\u001b[36mFile \u001b[39m\u001b[32m/mnt/c/workspaces/langchain_pydantic/lang/lib/python3.12/site-packages/httpcore/_sync/connection_pool.py:407\u001b[39m, in \u001b[36mPoolByteStream.__iter__\u001b[39m\u001b[34m(self)\u001b[39m\n\u001b[32m    405\u001b[39m \u001b[38;5;28;01mexcept\u001b[39;00m \u001b[38;5;167;01mBaseException\u001b[39;00m \u001b[38;5;28;01mas\u001b[39;00m exc:\n\u001b[32m    406\u001b[39m     \u001b[38;5;28mself\u001b[39m.close()\n\u001b[32m--> \u001b[39m\u001b[32m407\u001b[39m     \u001b[38;5;28;01mraise\u001b[39;00m exc \u001b[38;5;28;01mfrom\u001b[39;00m\u001b[38;5;250m \u001b[39m\u001b[38;5;28;01mNone\u001b[39;00m\n",
      "\u001b[36mFile \u001b[39m\u001b[32m/mnt/c/workspaces/langchain_pydantic/lang/lib/python3.12/site-packages/httpcore/_sync/connection_pool.py:403\u001b[39m, in \u001b[36mPoolByteStream.__iter__\u001b[39m\u001b[34m(self)\u001b[39m\n\u001b[32m    401\u001b[39m \u001b[38;5;28;01mdef\u001b[39;00m\u001b[38;5;250m \u001b[39m\u001b[34m__iter__\u001b[39m(\u001b[38;5;28mself\u001b[39m) -> typing.Iterator[\u001b[38;5;28mbytes\u001b[39m]:\n\u001b[32m    402\u001b[39m     \u001b[38;5;28;01mtry\u001b[39;00m:\n\u001b[32m--> \u001b[39m\u001b[32m403\u001b[39m \u001b[43m        \u001b[49m\u001b[38;5;28;43;01mfor\u001b[39;49;00m\u001b[43m \u001b[49m\u001b[43mpart\u001b[49m\u001b[43m \u001b[49m\u001b[38;5;129;43;01min\u001b[39;49;00m\u001b[43m \u001b[49m\u001b[38;5;28;43mself\u001b[39;49m\u001b[43m.\u001b[49m\u001b[43m_stream\u001b[49m\u001b[43m:\u001b[49m\n\u001b[32m    404\u001b[39m \u001b[43m            \u001b[49m\u001b[38;5;28;43;01myield\u001b[39;49;00m\u001b[43m \u001b[49m\u001b[43mpart\u001b[49m\n\u001b[32m    405\u001b[39m     \u001b[38;5;28;01mexcept\u001b[39;00m \u001b[38;5;167;01mBaseException\u001b[39;00m \u001b[38;5;28;01mas\u001b[39;00m exc:\n",
      "\u001b[36mFile \u001b[39m\u001b[32m/mnt/c/workspaces/langchain_pydantic/lang/lib/python3.12/site-packages/httpcore/_sync/http11.py:342\u001b[39m, in \u001b[36mHTTP11ConnectionByteStream.__iter__\u001b[39m\u001b[34m(self)\u001b[39m\n\u001b[32m    340\u001b[39m \u001b[38;5;28;01mwith\u001b[39;00m ShieldCancellation():\n\u001b[32m    341\u001b[39m     \u001b[38;5;28mself\u001b[39m.close()\n\u001b[32m--> \u001b[39m\u001b[32m342\u001b[39m \u001b[38;5;28;01mraise\u001b[39;00m exc\n",
      "\u001b[36mFile \u001b[39m\u001b[32m/mnt/c/workspaces/langchain_pydantic/lang/lib/python3.12/site-packages/httpcore/_sync/http11.py:334\u001b[39m, in \u001b[36mHTTP11ConnectionByteStream.__iter__\u001b[39m\u001b[34m(self)\u001b[39m\n\u001b[32m    332\u001b[39m \u001b[38;5;28;01mtry\u001b[39;00m:\n\u001b[32m    333\u001b[39m     \u001b[38;5;28;01mwith\u001b[39;00m Trace(\u001b[33m\"\u001b[39m\u001b[33mreceive_response_body\u001b[39m\u001b[33m\"\u001b[39m, logger, \u001b[38;5;28mself\u001b[39m._request, kwargs):\n\u001b[32m--> \u001b[39m\u001b[32m334\u001b[39m \u001b[43m        \u001b[49m\u001b[38;5;28;43;01mfor\u001b[39;49;00m\u001b[43m \u001b[49m\u001b[43mchunk\u001b[49m\u001b[43m \u001b[49m\u001b[38;5;129;43;01min\u001b[39;49;00m\u001b[43m \u001b[49m\u001b[38;5;28;43mself\u001b[39;49m\u001b[43m.\u001b[49m\u001b[43m_connection\u001b[49m\u001b[43m.\u001b[49m\u001b[43m_receive_response_body\u001b[49m\u001b[43m(\u001b[49m\u001b[43m*\u001b[49m\u001b[43m*\u001b[49m\u001b[43mkwargs\u001b[49m\u001b[43m)\u001b[49m\u001b[43m:\u001b[49m\n\u001b[32m    335\u001b[39m \u001b[43m            \u001b[49m\u001b[38;5;28;43;01myield\u001b[39;49;00m\u001b[43m \u001b[49m\u001b[43mchunk\u001b[49m\n\u001b[32m    336\u001b[39m \u001b[38;5;28;01mexcept\u001b[39;00m \u001b[38;5;167;01mBaseException\u001b[39;00m \u001b[38;5;28;01mas\u001b[39;00m exc:\n\u001b[32m    337\u001b[39m     \u001b[38;5;66;03m# If we get an exception while streaming the response,\u001b[39;00m\n\u001b[32m    338\u001b[39m     \u001b[38;5;66;03m# we want to close the response (and possibly the connection)\u001b[39;00m\n\u001b[32m    339\u001b[39m     \u001b[38;5;66;03m# before raising that exception.\u001b[39;00m\n",
      "\u001b[36mFile \u001b[39m\u001b[32m/mnt/c/workspaces/langchain_pydantic/lang/lib/python3.12/site-packages/httpcore/_sync/http11.py:203\u001b[39m, in \u001b[36mHTTP11Connection._receive_response_body\u001b[39m\u001b[34m(self, request)\u001b[39m\n\u001b[32m    200\u001b[39m timeout = timeouts.get(\u001b[33m\"\u001b[39m\u001b[33mread\u001b[39m\u001b[33m\"\u001b[39m, \u001b[38;5;28;01mNone\u001b[39;00m)\n\u001b[32m    202\u001b[39m \u001b[38;5;28;01mwhile\u001b[39;00m \u001b[38;5;28;01mTrue\u001b[39;00m:\n\u001b[32m--> \u001b[39m\u001b[32m203\u001b[39m     event = \u001b[38;5;28;43mself\u001b[39;49m\u001b[43m.\u001b[49m\u001b[43m_receive_event\u001b[49m\u001b[43m(\u001b[49m\u001b[43mtimeout\u001b[49m\u001b[43m=\u001b[49m\u001b[43mtimeout\u001b[49m\u001b[43m)\u001b[49m\n\u001b[32m    204\u001b[39m     \u001b[38;5;28;01mif\u001b[39;00m \u001b[38;5;28misinstance\u001b[39m(event, h11.Data):\n\u001b[32m    205\u001b[39m         \u001b[38;5;28;01myield\u001b[39;00m \u001b[38;5;28mbytes\u001b[39m(event.data)\n",
      "\u001b[36mFile \u001b[39m\u001b[32m/mnt/c/workspaces/langchain_pydantic/lang/lib/python3.12/site-packages/httpcore/_sync/http11.py:217\u001b[39m, in \u001b[36mHTTP11Connection._receive_event\u001b[39m\u001b[34m(self, timeout)\u001b[39m\n\u001b[32m    214\u001b[39m     event = \u001b[38;5;28mself\u001b[39m._h11_state.next_event()\n\u001b[32m    216\u001b[39m \u001b[38;5;28;01mif\u001b[39;00m event \u001b[38;5;129;01mis\u001b[39;00m h11.NEED_DATA:\n\u001b[32m--> \u001b[39m\u001b[32m217\u001b[39m     data = \u001b[38;5;28;43mself\u001b[39;49m\u001b[43m.\u001b[49m\u001b[43m_network_stream\u001b[49m\u001b[43m.\u001b[49m\u001b[43mread\u001b[49m\u001b[43m(\u001b[49m\n\u001b[32m    218\u001b[39m \u001b[43m        \u001b[49m\u001b[38;5;28;43mself\u001b[39;49m\u001b[43m.\u001b[49m\u001b[43mREAD_NUM_BYTES\u001b[49m\u001b[43m,\u001b[49m\u001b[43m \u001b[49m\u001b[43mtimeout\u001b[49m\u001b[43m=\u001b[49m\u001b[43mtimeout\u001b[49m\n\u001b[32m    219\u001b[39m \u001b[43m    \u001b[49m\u001b[43m)\u001b[49m\n\u001b[32m    221\u001b[39m     \u001b[38;5;66;03m# If we feed this case through h11 we'll raise an exception like:\u001b[39;00m\n\u001b[32m    222\u001b[39m     \u001b[38;5;66;03m#\u001b[39;00m\n\u001b[32m    223\u001b[39m     \u001b[38;5;66;03m#     httpcore.RemoteProtocolError: can't handle event type\u001b[39;00m\n\u001b[32m   (...)\u001b[39m\u001b[32m    227\u001b[39m     \u001b[38;5;66;03m# perspective. Instead we handle this case distinctly and treat\u001b[39;00m\n\u001b[32m    228\u001b[39m     \u001b[38;5;66;03m# it as a ConnectError.\u001b[39;00m\n\u001b[32m    229\u001b[39m     \u001b[38;5;28;01mif\u001b[39;00m data == \u001b[33mb\u001b[39m\u001b[33m\"\u001b[39m\u001b[33m\"\u001b[39m \u001b[38;5;129;01mand\u001b[39;00m \u001b[38;5;28mself\u001b[39m._h11_state.their_state == h11.SEND_RESPONSE:\n",
      "\u001b[36mFile \u001b[39m\u001b[32m/mnt/c/workspaces/langchain_pydantic/lang/lib/python3.12/site-packages/httpcore/_backends/sync.py:128\u001b[39m, in \u001b[36mSyncStream.read\u001b[39m\u001b[34m(self, max_bytes, timeout)\u001b[39m\n\u001b[32m    126\u001b[39m \u001b[38;5;28;01mwith\u001b[39;00m map_exceptions(exc_map):\n\u001b[32m    127\u001b[39m     \u001b[38;5;28mself\u001b[39m._sock.settimeout(timeout)\n\u001b[32m--> \u001b[39m\u001b[32m128\u001b[39m     \u001b[38;5;28;01mreturn\u001b[39;00m \u001b[38;5;28;43mself\u001b[39;49m\u001b[43m.\u001b[49m\u001b[43m_sock\u001b[49m\u001b[43m.\u001b[49m\u001b[43mrecv\u001b[49m\u001b[43m(\u001b[49m\u001b[43mmax_bytes\u001b[49m\u001b[43m)\u001b[49m\n",
      "\u001b[36mFile \u001b[39m\u001b[32m/mnt/c/workspaces/langchain_pydantic/lang/lib/python3.12/ssl.py:1232\u001b[39m, in \u001b[36mSSLSocket.recv\u001b[39m\u001b[34m(self, buflen, flags)\u001b[39m\n\u001b[32m   1228\u001b[39m     \u001b[38;5;28;01mif\u001b[39;00m flags != \u001b[32m0\u001b[39m:\n\u001b[32m   1229\u001b[39m         \u001b[38;5;28;01mraise\u001b[39;00m \u001b[38;5;167;01mValueError\u001b[39;00m(\n\u001b[32m   1230\u001b[39m             \u001b[33m\"\u001b[39m\u001b[33mnon-zero flags not allowed in calls to recv() on \u001b[39m\u001b[38;5;132;01m%s\u001b[39;00m\u001b[33m\"\u001b[39m %\n\u001b[32m   1231\u001b[39m             \u001b[38;5;28mself\u001b[39m.\u001b[34m__class__\u001b[39m)\n\u001b[32m-> \u001b[39m\u001b[32m1232\u001b[39m     \u001b[38;5;28;01mreturn\u001b[39;00m \u001b[38;5;28;43mself\u001b[39;49m\u001b[43m.\u001b[49m\u001b[43mread\u001b[49m\u001b[43m(\u001b[49m\u001b[43mbuflen\u001b[49m\u001b[43m)\u001b[49m\n\u001b[32m   1233\u001b[39m \u001b[38;5;28;01melse\u001b[39;00m:\n\u001b[32m   1234\u001b[39m     \u001b[38;5;28;01mreturn\u001b[39;00m \u001b[38;5;28msuper\u001b[39m().recv(buflen, flags)\n",
      "\u001b[36mFile \u001b[39m\u001b[32m/mnt/c/workspaces/langchain_pydantic/lang/lib/python3.12/ssl.py:1105\u001b[39m, in \u001b[36mSSLSocket.read\u001b[39m\u001b[34m(self, len, buffer)\u001b[39m\n\u001b[32m   1103\u001b[39m         \u001b[38;5;28;01mreturn\u001b[39;00m \u001b[38;5;28mself\u001b[39m._sslobj.read(\u001b[38;5;28mlen\u001b[39m, buffer)\n\u001b[32m   1104\u001b[39m     \u001b[38;5;28;01melse\u001b[39;00m:\n\u001b[32m-> \u001b[39m\u001b[32m1105\u001b[39m         \u001b[38;5;28;01mreturn\u001b[39;00m \u001b[38;5;28;43mself\u001b[39;49m\u001b[43m.\u001b[49m\u001b[43m_sslobj\u001b[49m\u001b[43m.\u001b[49m\u001b[43mread\u001b[49m\u001b[43m(\u001b[49m\u001b[38;5;28;43mlen\u001b[39;49m\u001b[43m)\u001b[49m\n\u001b[32m   1106\u001b[39m \u001b[38;5;28;01mexcept\u001b[39;00m SSLError \u001b[38;5;28;01mas\u001b[39;00m x:\n\u001b[32m   1107\u001b[39m     \u001b[38;5;28;01mif\u001b[39;00m x.args[\u001b[32m0\u001b[39m] == SSL_ERROR_EOF \u001b[38;5;129;01mand\u001b[39;00m \u001b[38;5;28mself\u001b[39m.suppress_ragged_eofs:\n",
      "\u001b[31mKeyboardInterrupt\u001b[39m: "
     ]
    }
   ],
   "source": [
    "## adding text summaries to vector store and document store\n",
    "loading_summaries_to_vector_store(retriever,texts,text_summaries)\n",
    "## adding image summaries to vector store and document store\n",
    "loading_summaries_to_vector_store(retriever,images,image_summaries)\n",
    "## Now the retriever is ready to use\n"
   ]
  },
  {
   "cell_type": "code",
   "execution_count": 42,
   "id": "bf1755d1",
   "metadata": {},
   "outputs": [],
   "source": [
    "loading_summaries_to_vector_store(retriever, tables, table_summaries)"
   ]
  },
  {
   "cell_type": "code",
   "execution_count": null,
   "id": "90383fc1",
   "metadata": {},
   "outputs": [
    {
     "name": "stdout",
     "output_type": "stream",
     "text": [
      "Year: Month Months -3 SD 10: 1 121 12.8 10: 2 122 12.8 10: 3 123 12.8 10: 4 124 12.9 10: 5 125 12.9 10: 6 126 12.9 10: 7 127 12.9 10: 8 128 13.0 10: 9 129 13.0 10: 10 130 13.0 10: 11 131 13.0 11: 0 132 13.1 11: 1 133 13.1 11: 2 134 13.1 11: 3 135 13.1 11: 4 136 13.2 11: 5 137 13.2 11: 6 138 13.2 11: 7 139 13.2 11: 8 140 13.3 11: 9 141 13.3 11: 10 142 13.3 11: 11 143 13.4 12: 0 144 13.4 12: 1 145 13.4 12: 2 146 13.5 12: 3 147 13.5 12: 4 148 13.5 -2 SD 13.8 13.8 13.8 13.8 13.9 13.9 13.9 13.9 14.0 14.0 14.0 14.1 14.1 14.1 14.1 14.2 14.2 14.2 14.3 14.3 14.3 14.4 14.4 14.5 14.5 14.5 14.6 14.6 -1 SD 15.0 15.0 15.0 15.0 15.1 15.1 15.1 15.2 15.2 15.2 15.3 15.3 15.3 15.4 15.4 15.5 15.5 15.5 15.6 15.6 15.7 15.7 15.7 15.8 15.8 15.9 15.9 16.0 Median 16.5 16.5 16.6 16.6 16.6 16.7 16.7 16.8 16.8 16.9 16.9 16.9 17.0 17.0 17.1 17.1 17.2 17.2 17.3 17.3 17.4 17.4 17.5 17.5 17.6 17.6 17.7 17.8 1 SD 18.5 18.6 18.6 18.7 18.8 18.8 18.9 18.9 19.0 19.0 19.1 19.2 19.2 19.3 19.3 19.4 19.5 19.5 19.6 19.7 19.7 19.8 19.9 19.9 20.0 20.1 20.2 20.2 2 SD 21.5 21.6 21.7 21.7 21.8 21.9 22.0 22.1 22.2 22.3 22.4 22.5 22.5 22.6 22.7 22.8 22.9 23.0 23.1 23.2 23.3 23.4 23.5 23.6 23.7 23.8 23.9 24.0 3 SD 26.2 26.4 26.6 26.7 26.9 27.0 27.2 27.4 27.5 27.7 27.9 28.0 28.2 28.4 28.5 28.7 28.8 29.0 29.2 29.3 29.5 29.6 29.8 30.0 30.1 30.3 30.4 30.6\n"
     ]
    }
   ],
   "source": [
    "doc = retriever.invoke(\"\")\n",
    "\n",
    "for d in doc[0:1]:\n",
    "    print(d)"
   ]
  },
  {
   "cell_type": "code",
   "execution_count": null,
   "id": "b24cdd50",
   "metadata": {},
   "outputs": [],
   "source": [
    "from langchain_core.runnables import RunnablePassthrough, RunnableLambda\n",
    "\n",
    "from langchain_openai import ChatOpenAI\n",
    "from base64 import b64decode\n",
    "from langchain.prompts.chat import ChatPromptTemplate\n",
    "from langchain.schema.output_parser import StrOutputParser\n",
    "\n",
    "def parse_docs(docs):\n",
    "    \"\"\"Parses the retrieved documents into a context with text and images.\"\"\"\n",
    "    image_doc = []\n",
    "    text_doc = []\n",
    "    for doc in docs:\n",
    "        try:\n",
    "            b64decode(doc)\n",
    "            image_doc.append(doc)\n",
    "        except Exception:\n",
    "            text_doc.append(doc)\n",
    "\n",
    "    return {\"images\": image_doc, \"text\": [d.text for d in text_doc]}\n",
    "\n",
    "# Define a ChatPromptTemplate directly\n",
    "prompt = ChatPromptTemplate.from_template(\n",
    "    \"\"\"\n",
    "    Answer the question based only on this context.\n",
    "\n",
    "    Context:\n",
    "    {context}\n",
    "\n",
    "    Question:\n",
    "    {question}\n",
    "    \"\"\"\n",
    ")\n",
    "\n",
    "\n",
    "\n",
    "model = ChatOpenAI(temperature=0.5, model='gpt-4o-mini')\n",
    "\n",
    "# Combine into a pipeline\n",
    "chain = {\n",
    "    \"context\": retriever | RunnableLambda(parse_docs),\n",
    "    \"question\": RunnablePassthrough()\n",
    "} | prompt | model | StrOutputParser()"
   ]
  },
  {
   "cell_type": "code",
   "execution_count": null,
   "id": "2865d118",
   "metadata": {},
   "outputs": [
    {
     "name": "stdout",
     "output_type": "stream",
     "text": [
      "Response from LLM : It is recommended to carry out at least 45 minutes of physical activity of moderate intensity for at least 5 days a week. To lose weight, experts recommend at least 60 minutes of moderate- to vigorous-intensity physical activity on most days of the week. Those on low-calorie diets for body weight reduction should engage in moderate to vigorous intensity physical activities for at least 60-90 minutes daily.\n"
     ]
    }
   ],
   "source": [
    "question = \"How much of physical exercise is needed?\"\n",
    "result = chain.invoke(question)\n",
    "\n",
    "print(\"Response from LLM :\", result)"
   ]
  },
  {
   "cell_type": "code",
   "execution_count": null,
   "id": "2ae507e1",
   "metadata": {},
   "outputs": [
    {
     "name": "stdout",
     "output_type": "stream",
     "text": [
      "Response from LLM : The Recommended Dietary Allowances (RDA) for Indian men based on their activity levels are as follows:\n",
      "\n",
      "1. **Sedentary work**: \n",
      "   - Energy: 2320 Kcal/day \n",
      "   - Protein: 60 g/day \n",
      "   - Fat: 30 g/day \n",
      "\n",
      "2. **Moderate work**: \n",
      "   - Energy: 2730 Kcal/day \n",
      "   - Protein: 70 g/day \n",
      "   - Fat: 30 g/day \n",
      "\n",
      "3. **Heavy work**: \n",
      "   - Energy: 3490 Kcal/day \n",
      "   - Protein: 80 g/day \n",
      "   - Fat: 40 g/day \n",
      "\n",
      "These values provide guidance on the nutritional needs for Indian men based on their level of physical activity.\n"
     ]
    }
   ],
   "source": [
    "\n",
    "question = \"Recommended Dietary Allowances for Indian mens\"\n",
    "result = chain.invoke(question)\n",
    "\n",
    "print(\"Response from LLM :\", result)"
   ]
  },
  {
   "cell_type": "code",
   "execution_count": null,
   "id": "f44dbfd7",
   "metadata": {},
   "outputs": [
    {
     "name": "stdout",
     "output_type": "stream",
     "text": [
      "Response from LLM : For boys aged 16 to 18 years, the balanced diet (number of portions) is as follows:\n",
      "\n",
      "- Millets: 15 g\n",
      "- Pulses: 3 g\n",
      "- Milk & milk products: 3 portions (100 ml each)\n",
      "- Roots & tubers: 2 portions (100 g each)\n",
      "- Green leafy vegetables: 1 portion (100 g)\n",
      "- Other vegetables: 2 portions (100 g each)\n",
      "- Fruits: 1 portion (100 g)\n",
      "- Sugar: 9 g\n",
      "- Fat: 6 g\n"
     ]
    }
   ],
   "source": [
    "\n",
    "question = \"Balanced Diet for (Number of Portions) for boys 16 to 18 years of age\"\n",
    "result = chain.invoke(question)\n",
    "\n",
    "print(\"Response from LLM :\", result)"
   ]
  },
  {
   "cell_type": "code",
   "execution_count": null,
   "id": "f27fb2f1",
   "metadata": {},
   "outputs": [],
   "source": []
  }
 ],
 "metadata": {
  "kernelspec": {
   "display_name": "Python 3",
   "language": "python",
   "name": "python3"
  },
  "language_info": {
   "codemirror_mode": {
    "name": "ipython",
    "version": 3
   },
   "file_extension": ".py",
   "mimetype": "text/x-python",
   "name": "python",
   "nbconvert_exporter": "python",
   "pygments_lexer": "ipython3",
   "version": "3.12.9"
  }
 },
 "nbformat": 4,
 "nbformat_minor": 5
}
